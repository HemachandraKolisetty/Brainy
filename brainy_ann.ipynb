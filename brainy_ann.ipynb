{
 "cells": [
  {
   "cell_type": "code",
   "execution_count": 1,
   "metadata": {},
   "outputs": [],
   "source": [
    "import os\n",
    "import pandas as pd\n",
    "import numpy as np\n",
    "import torch\n",
    "import torch.nn as nn"
   ]
  },
  {
   "cell_type": "code",
   "execution_count": 3,
   "metadata": {},
   "outputs": [],
   "source": [
    "root_folder = \"./tactile_dataset/\"\n",
    "file_name = \"final_merged_df_sw500.csv\"\n",
    "\n",
    "df = pd.read_csv(root_folder + file_name)"
   ]
  },
  {
   "cell_type": "code",
   "execution_count": 4,
   "metadata": {},
   "outputs": [
    {
     "name": "stdout",
     "output_type": "stream",
     "text": [
      "Total samples collected: 90665\n",
      "Feature vector size: 10\n",
      "Unique textures: [ 1.  2.  3.  4.  5.  6.  7.  8.  9. 10. 11. 12.]\n"
     ]
    }
   ],
   "source": [
    "X = df[['baro','imu_ax', 'imu_ay', 'imu_az','imu_gx', 'imu_gy', 'imu_gz','imu_mx', 'imu_my', 'imu_mz']].values\n",
    "y = df['Texture']\n",
    "\n",
    "print(f\"Total samples collected: {X.shape[0]}\")\n",
    "print(f\"Feature vector size: {X.shape[1]}\")\n",
    "print(f\"Unique textures: {np.unique(y)}\")"
   ]
  },
  {
   "cell_type": "code",
   "execution_count": 7,
   "metadata": {},
   "outputs": [
    {
     "name": "stdout",
     "output_type": "stream",
     "text": [
      "\n",
      "Encoded texture labels: [ 1.  2.  3.  4.  5.  6.  7.  8.  9. 10. 11. 12.]\n"
     ]
    }
   ],
   "source": [
    "from sklearn.model_selection import train_test_split\n",
    "from sklearn.preprocessing import MinMaxScaler, LabelEncoder\n",
    "\n",
    "label_encoder = LabelEncoder()\n",
    "y_encoded = label_encoder.fit_transform(y)\n",
    "texture_classes = label_encoder.classes_\n",
    "num_classes = len(texture_classes)\n",
    "print(\"\\nEncoded texture labels:\", texture_classes)\n",
    "\n",
    "scaler = MinMaxScaler()\n",
    "X_scaled = scaler.fit_transform(X)\n",
    "\n",
    "X_train, X_test, y_train, y_test = train_test_split(\n",
    "    X_scaled, y_encoded, test_size=0.2, random_state=42, stratify=y_encoded\n",
    ")"
   ]
  },
  {
   "cell_type": "code",
   "execution_count": 58,
   "metadata": {},
   "outputs": [],
   "source": [
    "from torch.utils.data import TensorDataset, DataLoader\n",
    "\n",
    "X_train_tensor = torch.tensor(X_train, dtype=torch.float32)\n",
    "y_train_tensor = torch.tensor(y_train, dtype=torch.int64)\n",
    "\n",
    "class ANN(nn.Module):\n",
    "    def __init__(self, input_size, hidden_size, num_classes):\n",
    "        super(ANN, self).__init__()\n",
    "        self.fc1 = nn.Linear(input_size, hidden_size)\n",
    "        self.relu = nn.ReLU()\n",
    "        self.fc2 = nn.Linear(hidden_size, hidden_size)\n",
    "        self.fc3 = nn.Linear(hidden_size, num_classes)\n",
    "    \n",
    "    def forward(self, x):\n",
    "        out = self.fc1(x)\n",
    "        out = self.relu(out)\n",
    "        out = self.fc2(out)\n",
    "        out = self.relu(out)\n",
    "        out = self.fc3(out)\n",
    "        return out"
   ]
  },
  {
   "cell_type": "code",
   "execution_count": 59,
   "metadata": {},
   "outputs": [],
   "source": [
    "model = ANN(10, 100, 12)\n",
    "criterion = nn.CrossEntropyLoss()\n",
    "\n",
    "optimizer = torch.optim.Adam(model.parameters(), lr=1e-2)\n",
    "\n",
    "train_dataset = TensorDataset(X_train_tensor, y_train_tensor)\n",
    "train_loader = DataLoader(train_dataset, batch_size=32, shuffle=True)"
   ]
  },
  {
   "cell_type": "code",
   "execution_count": 60,
   "metadata": {},
   "outputs": [
    {
     "name": "stdout",
     "output_type": "stream",
     "text": [
      "Epoch 1, loss: 1.2311073541641235, accuracy: 0.5011581095240721\n",
      "Epoch 2, loss: 1.1614422798156738, accuracy: 0.5809573705398996\n",
      "Epoch 3, loss: 1.061217188835144, accuracy: 0.6159350355705068\n",
      "Epoch 4, loss: 1.08589768409729, accuracy: 0.6365879887497932\n",
      "Epoch 5, loss: 0.9966001510620117, accuracy: 0.6582336072354271\n",
      "Epoch 6, loss: 0.7233521342277527, accuracy: 0.6695389621132741\n",
      "Epoch 7, loss: 0.9301535487174988, accuracy: 0.6802101141565102\n",
      "Epoch 8, loss: 0.9068951606750488, accuracy: 0.6940936414272321\n",
      "Epoch 9, loss: 0.840896487236023, accuracy: 0.6960376109854961\n",
      "Epoch 10, loss: 0.9592932462692261, accuracy: 0.704047868526995\n",
      "Epoch 11, loss: 0.39922264218330383, accuracy: 0.7082115480063972\n",
      "Epoch 12, loss: 0.6457757949829102, accuracy: 0.7125268846853803\n",
      "Epoch 13, loss: 0.6245402097702026, accuracy: 0.7191032923399328\n",
      "Epoch 14, loss: 0.8156502842903137, accuracy: 0.7208818176804721\n",
      "Epoch 15, loss: 0.599629819393158, accuracy: 0.7219020570231071\n",
      "Epoch 16, loss: 0.653846263885498, accuracy: 0.7258313571940661\n",
      "Epoch 17, loss: 0.5528803467750549, accuracy: 0.727485799371312\n",
      "Epoch 18, loss: 0.9098156690597534, accuracy: 0.7292505376937076\n",
      "Epoch 19, loss: 0.3215283453464508, accuracy: 0.7331798378646667\n",
      "Epoch 20, loss: 0.9474153518676758, accuracy: 0.7360337506204159\n"
     ]
    }
   ],
   "source": [
    "num_epochs = 20\n",
    "\n",
    "for epoch in range(num_epochs):\n",
    "    accuracy = 0\n",
    "    for i, (X_batch, y_batch) in enumerate(train_loader):\n",
    "        y_pred = model(X_batch)\n",
    "        loss = criterion(y_pred, y_batch)\n",
    "        optimizer.zero_grad()\n",
    "        loss.backward()\n",
    "        optimizer.step()\n",
    "        accuracy += (y_batch == y_pred.argmax(1)).sum().item()\n",
    "    print(f\"Epoch {epoch+1}, loss: {loss.item()}, accuracy: {accuracy/X_train.shape[0]}\")"
   ]
  },
  {
   "cell_type": "code",
   "execution_count": 53,
   "metadata": {},
   "outputs": [
    {
     "name": "stdout",
     "output_type": "stream",
     "text": [
      "Test accuracy: 0.7484696409860475\n"
     ]
    }
   ],
   "source": [
    "# evaluation\n",
    "X_test_tensor = torch.tensor(X_test, dtype=torch.float32)\n",
    "y_test_tensor = torch.tensor(y_test, dtype=torch.int64)\n",
    "\n",
    "test_dataset = TensorDataset(X_test_tensor, y_test_tensor)\n",
    "test_loader = DataLoader(test_dataset, batch_size=32, shuffle=False)\n",
    "\n",
    "model.eval()\n",
    "with torch.no_grad():\n",
    "    accuracy = 0\n",
    "    for X_batch, y_batch in test_loader:\n",
    "        y_pred = model(X_batch)\n",
    "        accuracy += (y_batch == y_pred.argmax(1)).sum().item()\n",
    "    print(f\"Test accuracy: {accuracy/X_test.shape[0]}\")"
   ]
  }
 ],
 "metadata": {
  "kernelspec": {
   "display_name": "brainy",
   "language": "python",
   "name": "python3"
  },
  "language_info": {
   "codemirror_mode": {
    "name": "ipython",
    "version": 3
   },
   "file_extension": ".py",
   "mimetype": "text/x-python",
   "name": "python",
   "nbconvert_exporter": "python",
   "pygments_lexer": "ipython3",
   "version": "3.9.20"
  }
 },
 "nbformat": 4,
 "nbformat_minor": 2
}
