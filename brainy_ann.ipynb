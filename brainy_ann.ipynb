{
 "cells": [
  {
   "cell_type": "code",
   "execution_count": 1,
   "metadata": {},
   "outputs": [],
   "source": [
    "import os\n",
    "import pandas as pd\n",
    "import numpy as np\n",
    "import torch\n",
    "import torch.nn as nn"
   ]
  },
  {
   "cell_type": "code",
   "execution_count": 3,
   "metadata": {},
   "outputs": [],
   "source": [
    "root_folder = \"./tactile_dataset/\"\n",
    "file_name = \"final_merged_df_sw500.csv\"\n",
    "\n",
    "df = pd.read_csv(root_folder + file_name)"
   ]
  },
  {
   "cell_type": "code",
   "execution_count": 4,
   "metadata": {},
   "outputs": [
    {
     "name": "stdout",
     "output_type": "stream",
     "text": [
      "Total samples collected: 90665\n",
      "Feature vector size: 10\n",
      "Unique textures: [ 1.  2.  3.  4.  5.  6.  7.  8.  9. 10. 11. 12.]\n"
     ]
    }
   ],
   "source": [
    "X = df[['baro','imu_ax', 'imu_ay', 'imu_az','imu_gx', 'imu_gy', 'imu_gz','imu_mx', 'imu_my', 'imu_mz']].values\n",
    "y = df['Texture']\n",
    "\n",
    "print(f\"Total samples collected: {X.shape[0]}\")\n",
    "print(f\"Feature vector size: {X.shape[1]}\")\n",
    "print(f\"Unique textures: {np.unique(y)}\")"
   ]
  },
  {
   "cell_type": "code",
   "execution_count": 7,
   "metadata": {},
   "outputs": [
    {
     "name": "stdout",
     "output_type": "stream",
     "text": [
      "\n",
      "Encoded texture labels: [ 1.  2.  3.  4.  5.  6.  7.  8.  9. 10. 11. 12.]\n"
     ]
    }
   ],
   "source": [
    "from sklearn.model_selection import train_test_split\n",
    "from sklearn.preprocessing import MinMaxScaler, LabelEncoder\n",
    "\n",
    "label_encoder = LabelEncoder()\n",
    "y_encoded = label_encoder.fit_transform(y)\n",
    "texture_classes = label_encoder.classes_\n",
    "num_classes = len(texture_classes)\n",
    "print(\"\\nEncoded texture labels:\", texture_classes)\n",
    "\n",
    "scaler = MinMaxScaler()\n",
    "X_scaled = scaler.fit_transform(X)\n",
    "\n",
    "X_train, X_test, y_train, y_test = train_test_split(\n",
    "    X_scaled, y_encoded, test_size=0.2, random_state=42, stratify=y_encoded\n",
    ")"
   ]
  },
  {
   "cell_type": "code",
   "execution_count": 46,
   "metadata": {},
   "outputs": [],
   "source": [
    "from torch.utils.data import TensorDataset, DataLoader\n",
    "\n",
    "X_train_tensor = torch.tensor(X_train, dtype=torch.float32)\n",
    "y_train_tensor = torch.tensor(y_train, dtype=torch.int64)\n",
    "\n",
    "class ANN(nn.Module):\n",
    "    def __init__(self, input_size, hidden_size, num_classes):\n",
    "        super(ANN, self).__init__()\n",
    "        self.fc1 = nn.Linear(input_size, hidden_size)\n",
    "        self.relu = nn.ReLU()\n",
    "        self.fc2 = nn.Linear(hidden_size, hidden_size)\n",
    "        self.fc3 = nn.Linear(hidden_size, num_classes)\n",
    "        self.softmax = nn.Softmax(dim=1)\n",
    "    \n",
    "    def forward(self, x):\n",
    "        out = self.fc1(x)\n",
    "        out = self.relu(out)\n",
    "        out = self.fc2(out)\n",
    "        out = self.relu(out)\n",
    "        out = self.fc3(out)\n",
    "        out = self.softmax(out)\n",
    "        return out"
   ]
  },
  {
   "cell_type": "code",
   "execution_count": 47,
   "metadata": {},
   "outputs": [],
   "source": [
    "model = ANN(10, 100, 12)\n",
    "criterion = nn.CrossEntropyLoss()\n",
    "optimizer = torch.optim.Adam(model.parameters(), lr=1e-2)\n",
    "\n",
    "train_dataset = TensorDataset(X_train_tensor, y_train_tensor)\n",
    "train_loader = DataLoader(train_dataset, batch_size=32, shuffle=True)"
   ]
  },
  {
   "cell_type": "code",
   "execution_count": 48,
   "metadata": {},
   "outputs": [
    {
     "name": "stdout",
     "output_type": "stream",
     "text": [
      "Epoch 1, loss: 2.210732936859131, accuracy: 0.4103843820658468\n",
      "Epoch 2, loss: 2.3162314891815186, accuracy: 0.44897424585010753\n",
      "Epoch 3, loss: 2.121678113937378, accuracy: 0.4615617934153201\n",
      "Epoch 4, loss: 2.2181084156036377, accuracy: 0.47016489273699885\n",
      "Epoch 5, loss: 2.362545967102051, accuracy: 0.4610792477802901\n",
      "Epoch 6, loss: 2.0344324111938477, accuracy: 0.46688358241879446\n",
      "Epoch 7, loss: 2.2655422687530518, accuracy: 0.4681106270335852\n",
      "Epoch 8, loss: 2.0187222957611084, accuracy: 0.4666354160922076\n",
      "Epoch 9, loss: 2.180729389190674, accuracy: 0.45560580157723485\n",
      "Epoch 10, loss: 2.1185925006866455, accuracy: 0.450408095737054\n",
      "Epoch 11, loss: 2.168163299560547, accuracy: 0.4539651464181327\n",
      "Epoch 12, loss: 2.1688053607940674, accuracy: 0.43284343462195995\n",
      "Epoch 13, loss: 2.1686606407165527, accuracy: 0.4508079192632217\n",
      "Epoch 14, loss: 2.1796202659606934, accuracy: 0.4397369436938179\n",
      "Epoch 15, loss: 2.0675644874572754, accuracy: 0.43751723377267965\n",
      "Epoch 16, loss: 2.2942891120910645, accuracy: 0.46402966966304526\n",
      "Epoch 17, loss: 2.0688135623931885, accuracy: 0.4527794628577731\n",
      "Epoch 18, loss: 2.468729019165039, accuracy: 0.4478023493078917\n",
      "Epoch 19, loss: 2.2220590114593506, accuracy: 0.43906137980477583\n",
      "Epoch 20, loss: 2.1189208030700684, accuracy: 0.43715877130094305\n"
     ]
    }
   ],
   "source": [
    "num_epochs = 20\n",
    "\n",
    "for epoch in range(num_epochs):\n",
    "    accuracy = 0\n",
    "    for i, (X_batch, y_batch) in enumerate(train_loader):\n",
    "        y_pred = model(X_batch)\n",
    "        loss = criterion(y_pred, y_batch)\n",
    "        optimizer.zero_grad()\n",
    "        loss.backward()\n",
    "        optimizer.step()\n",
    "        accuracy += (y_batch == y_pred.argmax(1)).sum().item()\n",
    "    print(f\"Epoch {epoch+1}, loss: {loss.item()}, accuracy: {accuracy/X_train.shape[0]}\")"
   ]
  }
 ],
 "metadata": {
  "kernelspec": {
   "display_name": "brainy",
   "language": "python",
   "name": "python3"
  },
  "language_info": {
   "codemirror_mode": {
    "name": "ipython",
    "version": 3
   },
   "file_extension": ".py",
   "mimetype": "text/x-python",
   "name": "python",
   "nbconvert_exporter": "python",
   "pygments_lexer": "ipython3",
   "version": "3.9.20"
  }
 },
 "nbformat": 4,
 "nbformat_minor": 2
}
