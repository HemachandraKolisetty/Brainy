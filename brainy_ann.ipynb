{
 "cells": [
  {
   "cell_type": "code",
   "execution_count": 1,
   "metadata": {},
   "outputs": [],
   "source": [
    "import os\n",
    "import pandas as pd\n",
    "import numpy as np\n",
    "import torch\n",
    "import torch.nn as nn"
   ]
  },
  {
   "cell_type": "code",
   "execution_count": 3,
   "metadata": {},
   "outputs": [],
   "source": [
    "root_folder = \"./tactile_dataset/\"\n",
    "file_name = \"final_merged_df_sw500.csv\"\n",
    "\n",
    "df = pd.read_csv(root_folder + file_name)"
   ]
  },
  {
   "cell_type": "code",
   "execution_count": 4,
   "metadata": {},
   "outputs": [
    {
     "name": "stdout",
     "output_type": "stream",
     "text": [
      "Total samples collected: 90665\n",
      "Feature vector size: 10\n",
      "Unique textures: [ 1.  2.  3.  4.  5.  6.  7.  8.  9. 10. 11. 12.]\n"
     ]
    }
   ],
   "source": [
    "X = df[['baro','imu_ax', 'imu_ay', 'imu_az','imu_gx', 'imu_gy', 'imu_gz','imu_mx', 'imu_my', 'imu_mz']].values\n",
    "y = df['Texture']\n",
    "\n",
    "print(f\"Total samples collected: {X.shape[0]}\")\n",
    "print(f\"Feature vector size: {X.shape[1]}\")\n",
    "print(f\"Unique textures: {np.unique(y)}\")"
   ]
  },
  {
   "cell_type": "code",
   "execution_count": 7,
   "metadata": {},
   "outputs": [
    {
     "name": "stdout",
     "output_type": "stream",
     "text": [
      "\n",
      "Encoded texture labels: [ 1.  2.  3.  4.  5.  6.  7.  8.  9. 10. 11. 12.]\n"
     ]
    }
   ],
   "source": [
    "from sklearn.model_selection import train_test_split\n",
    "from sklearn.preprocessing import MinMaxScaler, LabelEncoder\n",
    "\n",
    "label_encoder = LabelEncoder()\n",
    "y_encoded = label_encoder.fit_transform(y)\n",
    "texture_classes = label_encoder.classes_\n",
    "num_classes = len(texture_classes)\n",
    "print(\"\\nEncoded texture labels:\", texture_classes)\n",
    "\n",
    "scaler = MinMaxScaler()\n",
    "X_scaled = scaler.fit_transform(X)\n",
    "\n",
    "X_train, X_test, y_train, y_test = train_test_split(\n",
    "    X_scaled, y_encoded, test_size=0.2, random_state=42, stratify=y_encoded\n",
    ")"
   ]
  },
  {
   "cell_type": "code",
   "execution_count": 18,
   "metadata": {},
   "outputs": [],
   "source": [
    "from torch.utils.data import TensorDataset, DataLoader\n",
    "\n",
    "X_train_tensor = torch.tensor(X_train, dtype=torch.float32)\n",
    "y_train_tensor = torch.tensor(y_train, dtype=torch.int64)\n",
    "\n",
    "class ANN(nn.Module):\n",
    "    def __init__(self, input_size, hidden_size, num_classes):\n",
    "        super(ANN, self).__init__()\n",
    "        self.fc1 = nn.Linear(input_size, hidden_size)\n",
    "        self.relu = nn.ReLU()\n",
    "        self.fc2 = nn.Linear(hidden_size, hidden_size)\n",
    "        self.fc3 = nn.Linear(hidden_size, num_classes)\n",
    "    \n",
    "    def forward(self, x):\n",
    "        out = self.fc1(x)\n",
    "        out = self.relu(out)\n",
    "        out = self.fc2(out)\n",
    "        out = self.relu(out)\n",
    "        out = self.fc3(out)\n",
    "        return out"
   ]
  },
  {
   "cell_type": "code",
   "execution_count": 19,
   "metadata": {},
   "outputs": [],
   "source": [
    "model = ANN(10, 100, 12)\n",
    "criterion = nn.CrossEntropyLoss()\n",
    "optimizer = torch.optim.Adam(model.parameters(), lr=1e-2)\n",
    "\n",
    "train_dataset = TensorDataset(X_train_tensor, y_train_tensor)\n",
    "train_loader = DataLoader(train_dataset, batch_size=32, shuffle=True)"
   ]
  },
  {
   "cell_type": "code",
   "execution_count": 20,
   "metadata": {},
   "outputs": [
    {
     "name": "stdout",
     "output_type": "stream",
     "text": [
      "Epoch 1, loss: 1.441757082939148, accuracy: 0.49746318866155625\n",
      "Epoch 2, loss: 1.1783651113510132, accuracy: 0.5661501130535488\n",
      "Epoch 3, loss: 0.7587352991104126, accuracy: 0.5958611371532565\n",
      "Epoch 4, loss: 0.7874339818954468, accuracy: 0.6200849280317653\n",
      "Epoch 5, loss: 0.9099739789962769, accuracy: 0.639510836596261\n",
      "Epoch 6, loss: 0.6036234498023987, accuracy: 0.6528428831412342\n",
      "Epoch 7, loss: 0.9568380117416382, accuracy: 0.6635416092207578\n",
      "Epoch 8, loss: 1.486978530883789, accuracy: 0.6713450614901009\n",
      "Epoch 9, loss: 0.8184420466423035, accuracy: 0.6797413555396239\n",
      "Epoch 10, loss: 1.3229458332061768, accuracy: 0.6874896597363922\n",
      "Epoch 11, loss: 0.49721986055374146, accuracy: 0.691239728671483\n",
      "Epoch 12, loss: 0.7134292721748352, accuracy: 0.6948243533888491\n",
      "Epoch 13, loss: 0.6572558879852295, accuracy: 0.6982297468703469\n",
      "Epoch 14, loss: 1.2584407329559326, accuracy: 0.702200408095737\n",
      "Epoch 15, loss: 0.5426661372184753, accuracy: 0.7077014283350797\n",
      "Epoch 16, loss: 0.787103533744812, accuracy: 0.705357635250648\n",
      "Epoch 17, loss: 0.42480096220970154, accuracy: 0.7115755804334638\n",
      "Epoch 18, loss: 1.189409613609314, accuracy: 0.7150912700601114\n",
      "Epoch 19, loss: 1.5720436573028564, accuracy: 0.7165802680196327\n",
      "Epoch 20, loss: 0.976213276386261, accuracy: 0.7160563613301715\n"
     ]
    }
   ],
   "source": [
    "num_epochs = 20\n",
    "\n",
    "for epoch in range(num_epochs):\n",
    "    accuracy = 0\n",
    "    for i, (X_batch, y_batch) in enumerate(train_loader):\n",
    "        y_pred = model(X_batch)\n",
    "        loss = criterion(y_pred, y_batch)\n",
    "        optimizer.zero_grad()\n",
    "        loss.backward()\n",
    "        optimizer.step()\n",
    "        accuracy += (y_batch == y_pred.argmax(1)).sum().item()\n",
    "    print(f\"Epoch {epoch+1}, loss: {loss.item()}, accuracy: {accuracy/X_train.shape[0]}\")"
   ]
  }
 ],
 "metadata": {
  "kernelspec": {
   "display_name": "brainy",
   "language": "python",
   "name": "python3"
  },
  "language_info": {
   "codemirror_mode": {
    "name": "ipython",
    "version": 3
   },
   "file_extension": ".py",
   "mimetype": "text/x-python",
   "name": "python",
   "nbconvert_exporter": "python",
   "pygments_lexer": "ipython3",
   "version": "3.9.20"
  }
 },
 "nbformat": 4,
 "nbformat_minor": 2
}
