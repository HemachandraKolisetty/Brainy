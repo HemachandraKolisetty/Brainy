{
 "cells": [
  {
   "cell_type": "code",
   "execution_count": 1,
   "metadata": {},
   "outputs": [],
   "source": [
    "from dataloader import load_data_label_encoded\n",
    "from trainer import train_model, evaluate_model\n",
    "from snn import SNNModelSimple\n",
    "import torch\n",
    "import matplotlib.pyplot as plt\n",
    "import pickle"
   ]
  },
  {
   "cell_type": "code",
   "execution_count": null,
   "metadata": {},
   "outputs": [
    {
     "name": "stdout",
     "output_type": "stream",
     "text": [
      "Training for 10 steps\n",
      "Epoch 1/10, Train Loss: 2.2949, Train Accuracy: 17.80%, Val Loss: 2.2341, Val Accuracy: 19.31%, Time: 2.51s\n",
      "Epoch 2/10, Train Loss: 2.2282, Train Accuracy: 19.51%, Val Loss: 2.2084, Val Accuracy: 20.64%, Time: 2.45s\n",
      "Epoch 3/10, Train Loss: 2.2138, Train Accuracy: 19.97%, Val Loss: 2.2110, Val Accuracy: 19.86%, Time: 2.44s\n",
      "Epoch 4/10, Train Loss: 2.2088, Train Accuracy: 20.07%, Val Loss: 2.2093, Val Accuracy: 20.07%, Time: 2.46s\n",
      "Epoch 5/10, Train Loss: 2.2039, Train Accuracy: 20.10%, Val Loss: 2.2029, Val Accuracy: 21.02%, Time: 2.44s\n",
      "Epoch 6/10, Train Loss: 2.1991, Train Accuracy: 20.46%, Val Loss: 2.2023, Val Accuracy: 19.61%, Time: 2.47s\n",
      "Epoch 7/10, Train Loss: 2.1988, Train Accuracy: 20.33%, Val Loss: 2.2044, Val Accuracy: 20.36%, Time: 2.47s\n",
      "Epoch 8/10, Train Loss: 2.1967, Train Accuracy: 20.35%, Val Loss: 2.1997, Val Accuracy: 20.20%, Time: 2.49s\n",
      "Epoch 9/10, Train Loss: 2.1954, Train Accuracy: 20.40%, Val Loss: 2.2022, Val Accuracy: 19.53%, Time: 2.48s\n",
      "Epoch 10/10, Train Loss: 2.1953, Train Accuracy: 20.49%, Val Loss: 2.2041, Val Accuracy: 20.99%, Time: 2.51s\n",
      "Best model loaded with Validation Accuracy: 21.02%\n",
      "Test Accuracy: 20.44%, Time: 0.42s\n",
      "Training for 60 steps\n",
      "Epoch 1/10, Train Loss: 1.9640, Train Accuracy: 28.20%, Val Loss: 1.8710, Val Accuracy: 29.42%, Time: 15.35s\n",
      "Epoch 2/10, Train Loss: 1.7843, Train Accuracy: 32.78%, Val Loss: 1.8010, Val Accuracy: 32.14%, Time: 15.39s\n",
      "Epoch 3/10, Train Loss: 1.7544, Train Accuracy: 33.72%, Val Loss: 1.7567, Val Accuracy: 33.19%, Time: 15.97s\n",
      "Epoch 4/10, Train Loss: 1.7380, Train Accuracy: 34.25%, Val Loss: 1.7512, Val Accuracy: 32.74%, Time: 16.22s\n",
      "Epoch 5/10, Train Loss: 1.7250, Train Accuracy: 34.32%, Val Loss: 1.7212, Val Accuracy: 35.07%, Time: 15.92s\n"
     ]
    }
   ],
   "source": [
    "root_folder = \"./tactile_dataset/\"\n",
    "file_name = \"final_merged_df_sw500.csv\"\n",
    "\n",
    "train_losses_t = {}\n",
    "train_accuracies_t = {}\n",
    "val_losses_t = {}\n",
    "val_accuracies_t = {}\n",
    "test_accuracies_t = {}\n",
    "for t in range(10, 250, 50):\n",
    "    print(f\"Training for {t} steps\")\n",
    "    train_loader, val_loader, test_loader, num_outputs, num_features = load_data_label_encoded(root_folder, file_name, num_steps=t, batch_size=128)\n",
    "\n",
    "    model = SNNModelSimple(num_features, num_outputs)\n",
    "    criterion = torch.nn.CrossEntropyLoss()\n",
    "    optimizer = torch.optim.Adam(model.parameters(), lr=1e-3)\n",
    "\n",
    "    train_losses, train_accuracies, val_losses, val_accuracies = train_model(model, train_loader, val_loader, optimizer, criterion, num_epochs=10)\n",
    "    train_losses_t[t] = train_losses\n",
    "    train_accuracies_t[t] = train_accuracies\n",
    "    val_losses_t[t] = val_losses\n",
    "    val_accuracies_t[t] = val_accuracies\n",
    "\n",
    "    test_accuracies_t[t] = evaluate_model(model, test_loader)\n",
    "\n",
    "out_file_name = 'exp1_t_10_250_50_bs_128_ep_10.pkl' # exp1, t=10...250, step=50, batch_size=128, epochs=10\n",
    "with open(out_file_name, 'wb') as f:\n",
    "    pickle.dump({\"train_losses\": train_losses_t, \"train_accuracies\": train_accuracies_t, \"val_losses\": val_losses_t, \"val_accuracies\": val_accuracies_t, \"test_accuracies\": test_accuracies_t}, f)\n"
   ]
  },
  {
   "cell_type": "code",
   "execution_count": null,
   "metadata": {},
   "outputs": [],
   "source": []
  }
 ],
 "metadata": {
  "kernelspec": {
   "display_name": "brainy",
   "language": "python",
   "name": "python3"
  },
  "language_info": {
   "codemirror_mode": {
    "name": "ipython",
    "version": 3
   },
   "file_extension": ".py",
   "mimetype": "text/x-python",
   "name": "python",
   "nbconvert_exporter": "python",
   "pygments_lexer": "ipython3",
   "version": "3.9.20"
  }
 },
 "nbformat": 4,
 "nbformat_minor": 2
}
