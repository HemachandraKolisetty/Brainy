{
 "cells": [
  {
   "cell_type": "code",
   "execution_count": 1,
   "metadata": {},
   "outputs": [],
   "source": [
    "from dataloader import load_data_label_encoded\n",
    "from trainer import train_model, evaluate_model\n",
    "from snn import SNNModelSimple\n",
    "import torch\n",
    "import matplotlib.pyplot as plt\n",
    "import pickle"
   ]
  },
  {
   "cell_type": "code",
   "execution_count": null,
   "metadata": {},
   "outputs": [
    {
     "name": "stdout",
     "output_type": "stream",
     "text": [
      "Training for 10 steps\n",
      "Epoch 1/10, Train Loss: 1.9828, Train Accuracy: 27.89%, Val Loss: 1.6521, Val Accuracy: 36.85%, Time: 2.58s\n",
      "Epoch 2/10, Train Loss: 1.5549, Train Accuracy: 41.42%, Val Loss: 1.4934, Val Accuracy: 43.79%, Time: 2.46s\n",
      "Epoch 3/10, Train Loss: 1.4625, Train Accuracy: 44.36%, Val Loss: 1.4452, Val Accuracy: 45.80%, Time: 2.44s\n",
      "Epoch 4/10, Train Loss: 1.4220, Train Accuracy: 45.78%, Val Loss: 1.3924, Val Accuracy: 47.65%, Time: 2.42s\n",
      "Epoch 5/10, Train Loss: 1.3917, Train Accuracy: 46.80%, Val Loss: 1.3740, Val Accuracy: 47.03%, Time: 2.40s\n",
      "Epoch 6/10, Train Loss: 1.3774, Train Accuracy: 47.09%, Val Loss: 1.3560, Val Accuracy: 47.35%, Time: 2.42s\n",
      "Epoch 7/10, Train Loss: 1.3581, Train Accuracy: 47.74%, Val Loss: 1.3572, Val Accuracy: 47.75%, Time: 2.47s\n",
      "Epoch 8/10, Train Loss: 1.3508, Train Accuracy: 48.04%, Val Loss: 1.3340, Val Accuracy: 49.87%, Time: 2.44s\n",
      "Epoch 9/10, Train Loss: 1.3334, Train Accuracy: 48.77%, Val Loss: 1.3335, Val Accuracy: 49.24%, Time: 2.42s\n",
      "Epoch 10/10, Train Loss: 1.3303, Train Accuracy: 48.82%, Val Loss: 1.3456, Val Accuracy: 48.49%, Time: 2.42s\n",
      "Best model loaded with Validation Accuracy: 49.87%\n",
      "Test Accuracy: 48.52%, Time: 0.39s\n",
      "Training for 50 steps\n",
      "Epoch 1/10, Train Loss: 2.2653, Train Accuracy: 17.26%, Val Loss: 2.0688, Val Accuracy: 27.66%, Time: 12.17s\n",
      "Epoch 2/10, Train Loss: 1.8576, Train Accuracy: 33.11%, Val Loss: 1.7581, Val Accuracy: 33.73%, Time: 12.12s\n",
      "Epoch 3/10, Train Loss: 1.6207, Train Accuracy: 40.45%, Val Loss: 1.5319, Val Accuracy: 43.76%, Time: 12.31s\n",
      "Epoch 4/10, Train Loss: 1.4816, Train Accuracy: 44.88%, Val Loss: 1.3835, Val Accuracy: 47.29%, Time: 11.50s\n",
      "Epoch 5/10, Train Loss: 1.3755, Train Accuracy: 48.25%, Val Loss: 1.4351, Val Accuracy: 47.77%, Time: 11.90s\n",
      "Epoch 6/10, Train Loss: 1.3539, Train Accuracy: 49.29%, Val Loss: 1.3284, Val Accuracy: 49.81%, Time: 12.54s\n",
      "Epoch 7/10, Train Loss: 1.3431, Train Accuracy: 49.64%, Val Loss: 1.2845, Val Accuracy: 50.93%, Time: 12.35s\n",
      "Epoch 8/10, Train Loss: 1.3033, Train Accuracy: 51.08%, Val Loss: 1.2666, Val Accuracy: 52.77%, Time: 12.74s\n",
      "Epoch 9/10, Train Loss: 1.2751, Train Accuracy: 52.43%, Val Loss: 1.2653, Val Accuracy: 53.51%, Time: 13.12s\n",
      "Epoch 10/10, Train Loss: 1.2644, Train Accuracy: 52.81%, Val Loss: 1.2560, Val Accuracy: 53.47%, Time: 13.31s\n",
      "Best model loaded with Validation Accuracy: 53.51%\n",
      "Test Accuracy: 53.77%, Time: 2.08s\n",
      "Training for 100 steps\n",
      "Epoch 1/10, Train Loss: 2.4623, Train Accuracy: 10.00%, Val Loss: 2.3195, Val Accuracy: 17.83%, Time: 26.51s\n",
      "Epoch 2/10, Train Loss: 2.1277, Train Accuracy: 23.49%, Val Loss: 1.9699, Val Accuracy: 27.85%, Time: 26.59s\n",
      "Epoch 3/10, Train Loss: 1.9171, Train Accuracy: 31.46%, Val Loss: 1.9232, Val Accuracy: 33.55%, Time: 26.01s\n",
      "Epoch 4/10, Train Loss: 1.7786, Train Accuracy: 36.88%, Val Loss: 1.6962, Val Accuracy: 39.58%, Time: 26.68s\n",
      "Epoch 5/10, Train Loss: 1.6721, Train Accuracy: 40.43%, Val Loss: 1.6567, Val Accuracy: 41.60%, Time: 26.93s\n",
      "Epoch 6/10, Train Loss: 1.6153, Train Accuracy: 42.67%, Val Loss: 1.5761, Val Accuracy: 43.65%, Time: 26.42s\n",
      "Epoch 7/10, Train Loss: 1.5818, Train Accuracy: 44.27%, Val Loss: 1.5789, Val Accuracy: 42.76%, Time: 26.99s\n",
      "Epoch 8/10, Train Loss: 1.5833, Train Accuracy: 43.54%, Val Loss: 1.5535, Val Accuracy: 44.21%, Time: 28.49s\n"
     ]
    }
   ],
   "source": [
    "root_folder = \"./tactile_dataset/\"\n",
    "file_name = \"final_merged_df_sw500.csv\"\n",
    "device = torch.device(\"cuda:0\" if torch.cuda.is_available() else \"cpu\")\n",
    "\n",
    "train_losses_t = {}\n",
    "train_accuracies_t = {}\n",
    "val_losses_t = {}\n",
    "val_accuracies_t = {}\n",
    "test_accuracies_t = {}\n",
    "for t in [10, 50, 100, 150, 200]:\n",
    "    print(f\"Training for {t} steps\")\n",
    "    train_loader, val_loader, test_loader, num_outputs, num_features = load_data_label_encoded(root_folder, file_name, spike_encoding='temporal', num_steps=t, batch_size=128, device=device)\n",
    "\n",
    "    model = SNNModelSimple(num_features, num_outputs)\n",
    "    model.to(device)\n",
    "    criterion = torch.nn.CrossEntropyLoss()\n",
    "    optimizer = torch.optim.Adam(model.parameters(), lr=1e-3)\n",
    "\n",
    "    train_losses, train_accuracies, val_losses, val_accuracies = train_model(model, train_loader, val_loader, optimizer, criterion, num_epochs=10)\n",
    "    train_losses_t[t] = train_losses\n",
    "    train_accuracies_t[t] = train_accuracies\n",
    "    val_losses_t[t] = val_losses\n",
    "    val_accuracies_t[t] = val_accuracies\n",
    "\n",
    "    test_accuracies_t[t] = evaluate_model(model, test_loader)\n",
    "\n",
    "out_file_name = 'exp1_t_10_250_50_bs_128_ep_10.pkl' # exp1, t=10...250, step=50, batch_size=128, epochs=10\n",
    "with open(out_file_name, 'wb') as f:\n",
    "    pickle.dump({\"train_losses\": train_losses_t, \"train_accuracies\": train_accuracies_t, \"val_losses\": val_losses_t, \"val_accuracies\": val_accuracies_t, \"test_accuracies\": test_accuracies_t}, f)\n"
   ]
  }
 ],
 "metadata": {
  "kernelspec": {
   "display_name": "brainy",
   "language": "python",
   "name": "python3"
  },
  "language_info": {
   "codemirror_mode": {
    "name": "ipython",
    "version": 3
   },
   "file_extension": ".py",
   "mimetype": "text/x-python",
   "name": "python",
   "nbconvert_exporter": "python",
   "pygments_lexer": "ipython3",
   "version": "3.9.20"
  }
 },
 "nbformat": 4,
 "nbformat_minor": 2
}
