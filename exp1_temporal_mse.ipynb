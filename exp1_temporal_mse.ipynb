{
 "cells": [
  {
   "cell_type": "code",
   "execution_count": 1,
   "metadata": {},
   "outputs": [],
   "source": [
    "from dataloader import load_data_one_hot_encoded\n",
    "from trainer import train_model, evaluate_model\n",
    "from snn import SNNModelSimple\n",
    "import torch\n",
    "import matplotlib.pyplot as plt\n",
    "import pickle"
   ]
  },
  {
   "cell_type": "code",
   "execution_count": 2,
   "metadata": {},
   "outputs": [
    {
     "name": "stdout",
     "output_type": "stream",
     "text": [
      "Training for 10 steps\n",
      "Epoch 1/10, Train Loss: 0.0709, Train Accuracy: 22.89%, Val Loss: 1.4347, Val Accuracy: 37.88%, Time: 5.31s\n",
      "Epoch 2/10, Train Loss: 0.0606, Train Accuracy: 40.52%, Val Loss: 1.7483, Val Accuracy: 41.96%, Time: 4.62s\n",
      "Epoch 3/10, Train Loss: 0.0585, Train Accuracy: 43.02%, Val Loss: 1.8717, Val Accuracy: 45.36%, Time: 4.86s\n",
      "Epoch 4/10, Train Loss: 0.0570, Train Accuracy: 45.20%, Val Loss: 2.0143, Val Accuracy: 46.28%, Time: 6.74s\n",
      "Epoch 5/10, Train Loss: 0.0561, Train Accuracy: 46.34%, Val Loss: 2.1073, Val Accuracy: 45.73%, Time: 7.88s\n",
      "Epoch 6/10, Train Loss: 0.0555, Train Accuracy: 47.09%, Val Loss: 1.9111, Val Accuracy: 47.49%, Time: 5.11s\n",
      "Epoch 7/10, Train Loss: 0.0550, Train Accuracy: 48.10%, Val Loss: 2.0204, Val Accuracy: 48.22%, Time: 4.35s\n",
      "Epoch 8/10, Train Loss: 0.0547, Train Accuracy: 48.84%, Val Loss: 2.0827, Val Accuracy: 47.74%, Time: 5.37s\n",
      "Epoch 9/10, Train Loss: 0.0543, Train Accuracy: 49.09%, Val Loss: 1.9642, Val Accuracy: 48.86%, Time: 4.90s\n",
      "Epoch 10/10, Train Loss: 0.0540, Train Accuracy: 49.49%, Val Loss: 1.9848, Val Accuracy: 50.28%, Time: 4.73s\n",
      "Best model loaded with Validation Accuracy: 50.28%\n",
      "Test Accuracy: 49.96%, Time: 0.74s\n",
      "Training for 50 steps\n",
      "Epoch 1/10, Train Loss: 0.0759, Train Accuracy: 13.34%, Val Loss: 26.3156, Val Accuracy: 23.71%, Time: 24.22s\n",
      "Epoch 2/10, Train Loss: 0.0701, Train Accuracy: 29.51%, Val Loss: 28.9330, Val Accuracy: 33.06%, Time: 23.72s\n",
      "Epoch 3/10, Train Loss: 0.0666, Train Accuracy: 36.89%, Val Loss: 29.8931, Val Accuracy: 38.25%, Time: 23.43s\n",
      "Epoch 4/10, Train Loss: 0.0649, Train Accuracy: 39.24%, Val Loss: 33.9229, Val Accuracy: 39.82%, Time: 23.68s\n",
      "Epoch 5/10, Train Loss: 0.0637, Train Accuracy: 40.80%, Val Loss: 31.4775, Val Accuracy: 40.18%, Time: 23.65s\n",
      "Epoch 6/10, Train Loss: 0.0627, Train Accuracy: 43.27%, Val Loss: 34.5514, Val Accuracy: 43.18%, Time: 23.17s\n",
      "Epoch 7/10, Train Loss: 0.0619, Train Accuracy: 45.39%, Val Loss: 37.6304, Val Accuracy: 46.76%, Time: 22.57s\n",
      "Epoch 8/10, Train Loss: 0.0611, Train Accuracy: 46.59%, Val Loss: 35.8163, Val Accuracy: 43.73%, Time: 23.27s\n",
      "Epoch 9/10, Train Loss: 0.0604, Train Accuracy: 47.40%, Val Loss: 35.4367, Val Accuracy: 47.00%, Time: 23.00s\n",
      "Epoch 10/10, Train Loss: 0.0595, Train Accuracy: 47.59%, Val Loss: 37.1001, Val Accuracy: 48.53%, Time: 20.70s\n",
      "Best model loaded with Validation Accuracy: 48.53%\n",
      "Test Accuracy: 48.43%, Time: 3.30s\n",
      "Training for 100 steps\n",
      "Epoch 1/10, Train Loss: 0.0767, Train Accuracy: 8.67%, Val Loss: 71.5170, Val Accuracy: 8.33%, Time: 44.25s\n",
      "Epoch 2/10, Train Loss: 0.0737, Train Accuracy: 20.02%, Val Loss: 111.5518, Val Accuracy: 25.48%, Time: 47.77s\n",
      "Epoch 3/10, Train Loss: 0.0698, Train Accuracy: 30.82%, Val Loss: 109.4721, Val Accuracy: 33.78%, Time: 48.45s\n",
      "Epoch 4/10, Train Loss: 0.0679, Train Accuracy: 35.83%, Val Loss: 117.4615, Val Accuracy: 34.36%, Time: 45.13s\n",
      "Epoch 5/10, Train Loss: 0.0667, Train Accuracy: 37.36%, Val Loss: 126.7250, Val Accuracy: 39.22%, Time: 47.11s\n",
      "Epoch 6/10, Train Loss: 0.0659, Train Accuracy: 39.14%, Val Loss: 144.7107, Val Accuracy: 39.86%, Time: 45.23s\n",
      "Epoch 7/10, Train Loss: 0.0653, Train Accuracy: 40.66%, Val Loss: 130.6247, Val Accuracy: 40.41%, Time: 45.73s\n",
      "Epoch 8/10, Train Loss: 0.0648, Train Accuracy: 41.56%, Val Loss: 150.9149, Val Accuracy: 42.23%, Time: 43.21s\n",
      "Epoch 9/10, Train Loss: 0.0644, Train Accuracy: 42.04%, Val Loss: 133.7411, Val Accuracy: 42.29%, Time: 45.51s\n",
      "Epoch 10/10, Train Loss: 0.0640, Train Accuracy: 43.39%, Val Loss: 139.8338, Val Accuracy: 42.72%, Time: 43.28s\n",
      "Best model loaded with Validation Accuracy: 42.72%\n",
      "Test Accuracy: 43.15%, Time: 6.86s\n",
      "Training for 150 steps\n",
      "Epoch 1/10, Train Loss: 0.0767, Train Accuracy: 8.48%, Val Loss: 160.8612, Val Accuracy: 8.33%, Time: 70.49s\n"
     ]
    }
   ],
   "source": [
    "root_folder = \"./tactile_dataset/\"\n",
    "file_name = \"final_merged_df_sw500.csv\"\n",
    "device = torch.device(\"cuda:0\" if torch.cuda.is_available() else \"cpu\")\n",
    "\n",
    "train_losses_t = {}\n",
    "train_accuracies_t = {}\n",
    "val_losses_t = {}\n",
    "val_accuracies_t = {}\n",
    "test_accuracies_t = {}\n",
    "for t in [10, 50, 100, 150, 200]:\n",
    "    print(f\"Training for {t} steps\")\n",
    "    train_loader, val_loader, test_loader, num_outputs, num_features = load_data_one_hot_encoded(root_folder, file_name, spike_encoding='temporal', num_steps=t, batch_size=128, device=device)\n",
    "\n",
    "    model = SNNModelSimple(num_features, num_outputs)\n",
    "    model.to(device)\n",
    "    criterion = torch.nn.MSELoss()\n",
    "    optimizer = torch.optim.Adam(model.parameters(), lr=1e-3)\n",
    "\n",
    "    train_losses, train_accuracies, val_losses, val_accuracies = train_model(model, train_loader, val_loader, optimizer, criterion, num_epochs=10)\n",
    "    train_losses_t[t] = train_losses\n",
    "    train_accuracies_t[t] = train_accuracies\n",
    "    val_losses_t[t] = val_losses\n",
    "    val_accuracies_t[t] = val_accuracies\n",
    "\n",
    "    test_accuracies_t[t] = evaluate_model(model, test_loader, encoding='one-hot')\n",
    "\n",
    "out_file_name = 'exp1_t_10_250_50_bs_128_ep_10_temporal_mse.pkl' # exp1, t=10...250, step=50, batch_size=128, epochs=10\n",
    "with open(out_file_name, 'wb') as f:\n",
    "    pickle.dump({\"train_losses\": train_losses_t, \"train_accuracies\": train_accuracies_t, \"val_losses\": val_losses_t, \"val_accuracies\": val_accuracies_t, \"test_accuracies\": test_accuracies_t}, f)\n"
   ]
  },
  {
   "cell_type": "code",
   "execution_count": null,
   "metadata": {},
   "outputs": [],
   "source": []
  }
 ],
 "metadata": {
  "kernelspec": {
   "display_name": "brainy",
   "language": "python",
   "name": "python3"
  },
  "language_info": {
   "codemirror_mode": {
    "name": "ipython",
    "version": 3
   },
   "file_extension": ".py",
   "mimetype": "text/x-python",
   "name": "python",
   "nbconvert_exporter": "python",
   "pygments_lexer": "ipython3",
   "version": "3.10.14"
  }
 },
 "nbformat": 4,
 "nbformat_minor": 2
}
