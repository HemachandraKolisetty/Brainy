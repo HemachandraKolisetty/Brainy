{
 "cells": [
  {
   "cell_type": "code",
   "execution_count": 1,
   "metadata": {},
   "outputs": [],
   "source": [
    "from dataloader import load_data_label_encoded\n",
    "from trainer import train_model, evaluate_model\n",
    "from snn import SNNModelSimple\n",
    "import torch\n",
    "import matplotlib.pyplot as plt\n",
    "import pickle"
   ]
  },
  {
   "cell_type": "code",
   "execution_count": 3,
   "metadata": {},
   "outputs": [
    {
     "name": "stdout",
     "output_type": "stream",
     "text": [
      "Training for beta=0.6\n",
      "Epoch 1/10, Train Loss: 2.2484, Train Accuracy: 25.64%, Val Loss: 2.0386, Val Accuracy: 30.40%, Time: 87.55s\n",
      "Epoch 2/10, Train Loss: 1.9853, Train Accuracy: 31.86%, Val Loss: 1.9713, Val Accuracy: 31.55%, Time: 89.94s\n",
      "Epoch 3/10, Train Loss: 1.9223, Train Accuracy: 32.45%, Val Loss: 1.9651, Val Accuracy: 33.16%, Time: 93.76s\n",
      "Epoch 4/10, Train Loss: 1.8884, Train Accuracy: 33.18%, Val Loss: 1.9275, Val Accuracy: 31.65%, Time: 94.00s\n",
      "Epoch 5/10, Train Loss: 1.8752, Train Accuracy: 33.47%, Val Loss: 1.8548, Val Accuracy: 33.35%, Time: 91.71s\n",
      "Epoch 6/10, Train Loss: 1.8535, Train Accuracy: 33.71%, Val Loss: 1.8211, Val Accuracy: 33.43%, Time: 92.15s\n",
      "Epoch 7/10, Train Loss: 1.8314, Train Accuracy: 34.14%, Val Loss: 1.9208, Val Accuracy: 33.20%, Time: 92.14s\n",
      "Epoch 8/10, Train Loss: 1.8143, Train Accuracy: 34.40%, Val Loss: 1.8517, Val Accuracy: 33.73%, Time: 91.59s\n",
      "Epoch 9/10, Train Loss: 1.8025, Train Accuracy: 34.51%, Val Loss: 1.8570, Val Accuracy: 34.55%, Time: 91.32s\n",
      "Epoch 10/10, Train Loss: 1.7955, Train Accuracy: 34.60%, Val Loss: 1.7860, Val Accuracy: 34.60%, Time: 91.18s\n",
      "Best model loaded with Validation Accuracy: 34.60%\n",
      "Test Accuracy: 34.49%, Time: 16.34s\n",
      "Training for beta=0.7\n",
      "Epoch 1/10, Train Loss: 2.1461, Train Accuracy: 26.97%, Val Loss: 2.0890, Val Accuracy: 31.06%, Time: 92.29s\n",
      "Epoch 2/10, Train Loss: 1.9285, Train Accuracy: 32.12%, Val Loss: 1.9151, Val Accuracy: 33.73%, Time: 92.59s\n",
      "Epoch 3/10, Train Loss: 1.8734, Train Accuracy: 33.52%, Val Loss: 1.8561, Val Accuracy: 34.49%, Time: 92.32s\n",
      "Epoch 4/10, Train Loss: 1.8500, Train Accuracy: 33.91%, Val Loss: 1.8611, Val Accuracy: 34.44%, Time: 91.72s\n",
      "Epoch 5/10, Train Loss: 1.8167, Train Accuracy: 34.46%, Val Loss: 1.8239, Val Accuracy: 34.73%, Time: 94.62s\n",
      "Epoch 6/10, Train Loss: 1.8084, Train Accuracy: 34.64%, Val Loss: 1.8215, Val Accuracy: 33.59%, Time: 94.05s\n",
      "Epoch 7/10, Train Loss: 1.7958, Train Accuracy: 34.74%, Val Loss: 1.8839, Val Accuracy: 34.18%, Time: 92.02s\n",
      "Epoch 8/10, Train Loss: 1.7796, Train Accuracy: 35.32%, Val Loss: 1.7395, Val Accuracy: 35.90%, Time: 92.41s\n",
      "Epoch 9/10, Train Loss: 1.7705, Train Accuracy: 35.04%, Val Loss: 1.7551, Val Accuracy: 35.94%, Time: 93.38s\n",
      "Epoch 10/10, Train Loss: 1.7576, Train Accuracy: 35.38%, Val Loss: 1.7481, Val Accuracy: 35.58%, Time: 92.03s\n",
      "Best model loaded with Validation Accuracy: 35.94%\n",
      "Test Accuracy: 35.50%, Time: 16.60s\n",
      "Training for beta=0.8\n",
      "Epoch 1/10, Train Loss: 1.9676, Train Accuracy: 30.01%, Val Loss: 1.7926, Val Accuracy: 34.25%, Time: 91.77s\n",
      "Epoch 2/10, Train Loss: 1.7865, Train Accuracy: 34.87%, Val Loss: 1.7498, Val Accuracy: 35.94%, Time: 92.15s\n",
      "Epoch 3/10, Train Loss: 1.7502, Train Accuracy: 35.42%, Val Loss: 1.7693, Val Accuracy: 35.13%, Time: 93.54s\n",
      "Epoch 4/10, Train Loss: 1.7201, Train Accuracy: 36.24%, Val Loss: 1.7328, Val Accuracy: 35.07%, Time: 93.61s\n",
      "Epoch 5/10, Train Loss: 1.7036, Train Accuracy: 36.54%, Val Loss: 1.7798, Val Accuracy: 35.64%, Time: 93.92s\n",
      "Epoch 6/10, Train Loss: 1.6965, Train Accuracy: 36.49%, Val Loss: 1.7008, Val Accuracy: 36.39%, Time: 93.75s\n",
      "Epoch 7/10, Train Loss: 1.6829, Train Accuracy: 36.86%, Val Loss: 1.7024, Val Accuracy: 36.86%, Time: 93.19s\n",
      "Epoch 8/10, Train Loss: 1.6680, Train Accuracy: 37.40%, Val Loss: 1.6993, Val Accuracy: 34.65%, Time: 92.73s\n",
      "Epoch 9/10, Train Loss: 1.6673, Train Accuracy: 37.28%, Val Loss: 1.7174, Val Accuracy: 36.63%, Time: 93.22s\n",
      "Epoch 10/10, Train Loss: 1.6619, Train Accuracy: 37.43%, Val Loss: 1.6927, Val Accuracy: 36.42%, Time: 94.49s\n",
      "Best model loaded with Validation Accuracy: 36.86%\n",
      "Test Accuracy: 37.12%, Time: 16.32s\n",
      "Training for beta=0.9\n",
      "Epoch 1/10, Train Loss: 1.8647, Train Accuracy: 31.98%, Val Loss: 1.6834, Val Accuracy: 35.89%, Time: 92.88s\n",
      "Epoch 2/10, Train Loss: 1.6664, Train Accuracy: 36.77%, Val Loss: 1.6441, Val Accuracy: 37.40%, Time: 92.99s\n",
      "Epoch 3/10, Train Loss: 1.6302, Train Accuracy: 37.70%, Val Loss: 1.6241, Val Accuracy: 38.20%, Time: 92.03s\n",
      "Epoch 4/10, Train Loss: 1.6195, Train Accuracy: 38.03%, Val Loss: 1.6379, Val Accuracy: 37.06%, Time: 92.16s\n",
      "Epoch 5/10, Train Loss: 1.5972, Train Accuracy: 38.53%, Val Loss: 1.6520, Val Accuracy: 38.17%, Time: 91.57s\n",
      "Epoch 6/10, Train Loss: 1.5984, Train Accuracy: 38.70%, Val Loss: 1.5911, Val Accuracy: 38.51%, Time: 92.34s\n",
      "Epoch 7/10, Train Loss: 1.5898, Train Accuracy: 39.06%, Val Loss: 1.5823, Val Accuracy: 39.77%, Time: 92.49s\n",
      "Epoch 8/10, Train Loss: 1.5753, Train Accuracy: 39.58%, Val Loss: 1.6223, Val Accuracy: 37.96%, Time: 91.86s\n",
      "Epoch 9/10, Train Loss: 1.5752, Train Accuracy: 39.50%, Val Loss: 1.6245, Val Accuracy: 39.93%, Time: 92.02s\n",
      "Epoch 10/10, Train Loss: 1.5671, Train Accuracy: 39.62%, Val Loss: 1.5668, Val Accuracy: 40.75%, Time: 92.96s\n",
      "Best model loaded with Validation Accuracy: 40.75%\n",
      "Test Accuracy: 40.73%, Time: 16.90s\n"
     ]
    }
   ],
   "source": [
    "root_folder = \"./\"\n",
    "file_name = \"final_merged_df_sw500.csv\"\n",
    "\n",
    "train_losses_beta = {}\n",
    "train_accuracies_beta = {}\n",
    "val_losses_beta = {}\n",
    "val_accuracies_beta = {}\n",
    "test_accuracies_beta = {}\n",
    "for i, beta in enumerate([0.6, 0.7, 0.8, 0.9]):\n",
    "    print(f\"Training for beta={beta}\")\n",
    "    train_loader, val_loader, test_loader, num_outputs, num_features = load_data_label_encoded(root_folder, file_name, num_steps=100, batch_size=128)\n",
    "\n",
    "    model = SNNModelSimple(num_features, num_outputs, beta=beta)\n",
    "    criterion = torch.nn.CrossEntropyLoss()\n",
    "    optimizer = torch.optim.Adam(model.parameters(), lr=1e-3)\n",
    "\n",
    "    train_losses, train_accuracies, val_losses, val_accuracies = train_model(model, train_loader, val_loader, optimizer, criterion, num_epochs=10)\n",
    "    train_losses_beta[i] = train_losses\n",
    "    train_accuracies_beta[i] = train_accuracies\n",
    "    val_losses_beta[i] = val_losses\n",
    "    val_accuracies_beta[i] = val_accuracies\n",
    "\n",
    "    test_accuracies_beta[i] = evaluate_model(model, test_loader)\n",
    "\n",
    "out_file_name = 'exp2_beta_06_09_bs_128_ep_10_T_100.pkl' \n",
    "with open(out_file_name, 'wb') as f:\n",
    "    pickle.dump({\"train_losses\": train_losses_beta, \"train_accuracies\": train_accuracies_beta, \"val_losses\": val_losses_beta, \"val_accuracies\": val_accuracies_beta, \"test_accuracies\": test_accuracies_beta}, f)\n"
   ]
  }
 ],
 "metadata": {
  "kernelspec": {
   "display_name": "brainy",
   "language": "python",
   "name": "python3"
  },
  "language_info": {
   "codemirror_mode": {
    "name": "ipython",
    "version": 3
   },
   "file_extension": ".py",
   "mimetype": "text/x-python",
   "name": "python",
   "nbconvert_exporter": "python",
   "pygments_lexer": "ipython3",
   "version": "3.9.19"
  }
 },
 "nbformat": 4,
 "nbformat_minor": 2
}
