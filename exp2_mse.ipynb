{
 "cells": [
  {
   "cell_type": "code",
   "execution_count": 1,
   "metadata": {},
   "outputs": [],
   "source": [
    "from dataloader import load_data_one_hot_encoded\n",
    "from trainer import train_model, evaluate_model\n",
    "from snn import SNNModelSimple\n",
    "import torch\n",
    "import matplotlib.pyplot as plt\n",
    "import pickle"
   ]
  },
  {
   "cell_type": "code",
   "execution_count": null,
   "metadata": {},
   "outputs": [],
   "source": [
    "root_folder = \"./tactile_dataset/\"\n",
    "file_name = \"final_merged_df_sw500.csv\"\n",
    "\n",
    "train_losses_beta = {}\n",
    "train_accuracies_beta = {}\n",
    "val_losses_beta = {}\n",
    "val_accuracies_beta = {}\n",
    "test_accuracies_beta = {}\n",
    "for beta in [0.6, 0.7, 0.8, 0.9, 0.99, 0.999, 1]:\n",
    "    print(f\"Training for beta={beta}\")\n",
    "    train_loader, val_loader, test_loader, num_outputs, num_features = load_data_one_hot_encoded(root_folder, file_name, num_steps=100, batch_size=128)\n",
    "\n",
    "    model = SNNModelSimple(num_features, num_outputs, beta=beta)\n",
    "    criterion = torch.nn.MSELoss()\n",
    "    optimizer = torch.optim.Adam(model.parameters(), lr=1e-3)\n",
    "\n",
    "    train_losses, train_accuracies, val_losses, val_accuracies = train_model(model, train_loader, val_loader, optimizer, criterion, num_epochs=10)\n",
    "    train_losses_beta[beta] = train_losses\n",
    "    train_accuracies_beta[beta] = train_accuracies\n",
    "    val_losses_beta[beta] = val_losses\n",
    "    val_accuracies_beta[beta] = val_accuracies\n",
    "\n",
    "    test_accuracies_beta[beta] = evaluate_model(model, test_loader, encoding=\"one-hot\")\n",
    "\n",
    "out_file_name = 'exp2_mse_beta_06_1_bs_128_ep_10_T_100.pkl' \n",
    "with open(out_file_name, 'wb') as f:\n",
    "    pickle.dump({\"train_losses\": train_losses_beta, \"train_accuracies\": train_accuracies_beta, \"val_losses\": val_losses_beta, \"val_accuracies\": val_accuracies_beta, \"test_accuracies\": test_accuracies_beta}, f)\n"
   ]
  }
 ],
 "metadata": {
  "kernelspec": {
   "display_name": "brainy",
   "language": "python",
   "name": "python3"
  },
  "language_info": {
   "codemirror_mode": {
    "name": "ipython",
    "version": 3
   },
   "file_extension": ".py",
   "mimetype": "text/x-python",
   "name": "python",
   "nbconvert_exporter": "python",
   "pygments_lexer": "ipython3",
   "version": "3.9.20"
  }
 },
 "nbformat": 4,
 "nbformat_minor": 2
}
