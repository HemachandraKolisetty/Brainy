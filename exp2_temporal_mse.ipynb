{
 "cells": [
  {
   "cell_type": "code",
   "execution_count": 3,
   "metadata": {},
   "outputs": [],
   "source": [
    "from dataloader import load_data_one_hot_encoded\n",
    "from trainer import train_model, evaluate_model\n",
    "from snn import SNNModelSimple\n",
    "import torch\n",
    "import matplotlib.pyplot as plt\n",
    "import pickle"
   ]
  },
  {
   "cell_type": "code",
   "execution_count": 4,
   "metadata": {},
   "outputs": [
    {
     "name": "stdout",
     "output_type": "stream",
     "text": [
      "cpu\n",
      "Training for beta=0.6\n",
      "Epoch 1/10, Train Loss: 0.0765, Train Accuracy: 12.73%, Val Loss: 20.1594, Val Accuracy: 21.42%, Time: 26.63s\n",
      "Epoch 2/10, Train Loss: 0.0722, Train Accuracy: 24.20%, Val Loss: 24.3628, Val Accuracy: 26.88%, Time: 22.78s\n",
      "Epoch 3/10, Train Loss: 0.0705, Train Accuracy: 29.78%, Val Loss: 25.6497, Val Accuracy: 31.46%, Time: 23.66s\n",
      "Epoch 4/10, Train Loss: 0.0695, Train Accuracy: 33.44%, Val Loss: 27.0557, Val Accuracy: 34.42%, Time: 23.34s\n",
      "Epoch 5/10, Train Loss: 0.0684, Train Accuracy: 35.91%, Val Loss: 29.2269, Val Accuracy: 38.27%, Time: 22.90s\n",
      "Epoch 6/10, Train Loss: 0.0675, Train Accuracy: 38.34%, Val Loss: 28.4744, Val Accuracy: 39.65%, Time: 23.69s\n",
      "Epoch 7/10, Train Loss: 0.0668, Train Accuracy: 40.42%, Val Loss: 31.4443, Val Accuracy: 40.67%, Time: 23.26s\n",
      "Epoch 8/10, Train Loss: 0.0663, Train Accuracy: 41.23%, Val Loss: 30.6374, Val Accuracy: 41.67%, Time: 22.88s\n",
      "Epoch 9/10, Train Loss: 0.0660, Train Accuracy: 41.85%, Val Loss: 31.3383, Val Accuracy: 42.64%, Time: 21.90s\n",
      "Epoch 10/10, Train Loss: 0.0657, Train Accuracy: 41.98%, Val Loss: 30.9968, Val Accuracy: 42.86%, Time: 22.98s\n",
      "Best model loaded with Validation Accuracy: 42.86%\n",
      "Test Accuracy: 42.61%, Time: 3.41s\n",
      "Training for beta=0.7\n",
      "Epoch 1/10, Train Loss: 0.0759, Train Accuracy: 13.40%, Val Loss: 22.2077, Val Accuracy: 20.45%, Time: 22.46s\n",
      "Epoch 2/10, Train Loss: 0.0713, Train Accuracy: 27.69%, Val Loss: 25.5391, Val Accuracy: 32.92%, Time: 21.35s\n",
      "Epoch 3/10, Train Loss: 0.0685, Train Accuracy: 35.20%, Val Loss: 29.0740, Val Accuracy: 35.93%, Time: 21.55s\n",
      "Epoch 4/10, Train Loss: 0.0672, Train Accuracy: 37.94%, Val Loss: 31.4003, Val Accuracy: 39.21%, Time: 21.55s\n",
      "Epoch 5/10, Train Loss: 0.0662, Train Accuracy: 39.72%, Val Loss: 33.4887, Val Accuracy: 40.85%, Time: 23.39s\n",
      "Epoch 6/10, Train Loss: 0.0655, Train Accuracy: 40.80%, Val Loss: 32.2992, Val Accuracy: 41.64%, Time: 25.03s\n",
      "Epoch 7/10, Train Loss: 0.0650, Train Accuracy: 41.51%, Val Loss: 31.9073, Val Accuracy: 42.06%, Time: 23.84s\n",
      "Epoch 8/10, Train Loss: 0.0640, Train Accuracy: 43.81%, Val Loss: 35.2249, Val Accuracy: 44.21%, Time: 24.39s\n",
      "Epoch 9/10, Train Loss: 0.0634, Train Accuracy: 45.26%, Val Loss: 35.9823, Val Accuracy: 44.98%, Time: 21.76s\n",
      "Epoch 10/10, Train Loss: 0.0630, Train Accuracy: 45.85%, Val Loss: 39.3069, Val Accuracy: 44.74%, Time: 22.95s\n",
      "Best model loaded with Validation Accuracy: 44.98%\n",
      "Test Accuracy: 44.48%, Time: 4.02s\n",
      "Training for beta=0.8\n",
      "Epoch 1/10, Train Loss: 0.0761, Train Accuracy: 12.84%, Val Loss: 21.0843, Val Accuracy: 18.83%, Time: 23.82s\n",
      "Epoch 2/10, Train Loss: 0.0712, Train Accuracy: 26.57%, Val Loss: 29.3213, Val Accuracy: 34.03%, Time: 23.41s\n",
      "Epoch 3/10, Train Loss: 0.0669, Train Accuracy: 36.98%, Val Loss: 33.3891, Val Accuracy: 38.61%, Time: 21.56s\n",
      "Epoch 4/10, Train Loss: 0.0646, Train Accuracy: 40.76%, Val Loss: 34.3628, Val Accuracy: 43.09%, Time: 22.40s\n",
      "Epoch 5/10, Train Loss: 0.0628, Train Accuracy: 43.80%, Val Loss: 36.9568, Val Accuracy: 44.76%, Time: 20.33s\n",
      "Epoch 6/10, Train Loss: 0.0617, Train Accuracy: 45.63%, Val Loss: 39.4803, Val Accuracy: 45.43%, Time: 25.04s\n",
      "Epoch 7/10, Train Loss: 0.0607, Train Accuracy: 47.35%, Val Loss: 40.6308, Val Accuracy: 47.83%, Time: 22.05s\n",
      "Epoch 8/10, Train Loss: 0.0597, Train Accuracy: 48.75%, Val Loss: 40.7091, Val Accuracy: 48.75%, Time: 20.74s\n",
      "Epoch 9/10, Train Loss: 0.0589, Train Accuracy: 49.69%, Val Loss: 41.1380, Val Accuracy: 50.53%, Time: 22.86s\n",
      "Epoch 10/10, Train Loss: 0.0584, Train Accuracy: 50.40%, Val Loss: 44.1885, Val Accuracy: 50.10%, Time: 21.21s\n",
      "Best model loaded with Validation Accuracy: 50.53%\n",
      "Test Accuracy: 50.61%, Time: 3.12s\n",
      "Training for beta=0.9\n",
      "Epoch 1/10, Train Loss: 0.0759, Train Accuracy: 13.20%, Val Loss: 24.2333, Val Accuracy: 26.10%, Time: 21.26s\n",
      "Epoch 2/10, Train Loss: 0.0700, Train Accuracy: 29.70%, Val Loss: 28.8007, Val Accuracy: 33.86%, Time: 21.93s\n",
      "Epoch 3/10, Train Loss: 0.0672, Train Accuracy: 36.04%, Val Loss: 32.6003, Val Accuracy: 36.25%, Time: 22.35s\n",
      "Epoch 4/10, Train Loss: 0.0656, Train Accuracy: 38.32%, Val Loss: 31.5783, Val Accuracy: 38.46%, Time: 24.66s\n",
      "Epoch 5/10, Train Loss: 0.0643, Train Accuracy: 40.98%, Val Loss: 33.1603, Val Accuracy: 42.45%, Time: 22.17s\n",
      "Epoch 6/10, Train Loss: 0.0630, Train Accuracy: 43.67%, Val Loss: 34.0011, Val Accuracy: 44.10%, Time: 23.62s\n",
      "Epoch 7/10, Train Loss: 0.0617, Train Accuracy: 46.05%, Val Loss: 33.1324, Val Accuracy: 47.31%, Time: 25.69s\n"
     ]
    }
   ],
   "source": [
    "root_folder = \"./tactile_dataset/\"\n",
    "file_name = \"final_merged_df_sw500.csv\"\n",
    "device = torch.device(\"cuda\" if torch.cuda.is_available() else \"cpu\")\n",
    "print(device)\n",
    "\n",
    "train_losses_beta = {}\n",
    "train_accuracies_beta = {}\n",
    "val_losses_beta = {}\n",
    "val_accuracies_beta = {}\n",
    "test_accuracies_beta = {}\n",
    "for i, beta in enumerate([0.6, 0.7, 0.8, 0.9, 0.99, 0.999, 1]):\n",
    "    print(f\"Training for beta={beta}\")\n",
    "    train_loader, val_loader, test_loader, num_outputs, num_features = load_data_one_hot_encoded(root_folder, file_name, spike_encoding='temproal', num_steps=50, batch_size=128, device=device)\n",
    "\n",
    "    model = SNNModelSimple(num_features, num_outputs, beta=beta)\n",
    "    model.to(device)\n",
    "    criterion = torch.nn.MSELoss()\n",
    "    optimizer = torch.optim.Adam(model.parameters(), lr=1e-3)\n",
    "\n",
    "    train_losses, train_accuracies, val_losses, val_accuracies = train_model(model, train_loader, val_loader, optimizer, criterion, num_epochs=10)\n",
    "    train_losses_beta[i] = train_losses\n",
    "    train_accuracies_beta[i] = train_accuracies\n",
    "    val_losses_beta[i] = val_losses\n",
    "    val_accuracies_beta[i] = val_accuracies\n",
    "\n",
    "    test_accuracies_beta[i] = evaluate_model(model, test_loader,encoding='one-hot')\n",
    "\n",
    "out_file_name = 'exp2_temporal_beta_06_09_bs_128_ep_10_T_100_temporal_mse.pkl' \n",
    "with open(out_file_name, 'wb') as f:\n",
    "    pickle.dump({\"train_losses\": train_losses_beta, \"train_accuracies\": train_accuracies_beta, \"val_losses\": val_losses_beta, \"val_accuracies\": val_accuracies_beta, \"test_accuracies\": test_accuracies_beta}, f)\n"
   ]
  },
  {
   "cell_type": "code",
   "execution_count": null,
   "metadata": {},
   "outputs": [],
   "source": []
  }
 ],
 "metadata": {
  "kernelspec": {
   "display_name": "brainy",
   "language": "python",
   "name": "python3"
  },
  "language_info": {
   "codemirror_mode": {
    "name": "ipython",
    "version": 3
   },
   "file_extension": ".py",
   "mimetype": "text/x-python",
   "name": "python",
   "nbconvert_exporter": "python",
   "pygments_lexer": "ipython3",
   "version": "3.10.14"
  }
 },
 "nbformat": 4,
 "nbformat_minor": 2
}
