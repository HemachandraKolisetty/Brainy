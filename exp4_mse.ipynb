{
 "cells": [
  {
   "cell_type": "code",
   "execution_count": 1,
   "metadata": {},
   "outputs": [],
   "source": [
    "from dataloader import load_data_one_hot_encoded\n",
    "from trainer import train_model, evaluate_model\n",
    "from snn import SNNModelSimple\n",
    "import torch\n",
    "import matplotlib.pyplot as plt\n",
    "import pickle"
   ]
  },
  {
   "cell_type": "code",
   "execution_count": null,
   "metadata": {},
   "outputs": [],
   "source": [
    "root_folder = \"./tactile_dataset/\"\n",
    "file_name = \"final_merged_df_sw500.csv\"\n",
    "\n",
    "train_losses_wd = {}\n",
    "train_accuracies_wd = {}\n",
    "val_losses_wd = {}\n",
    "val_accuracies_wd = {}\n",
    "test_accuracies_wd = {}\n",
    "\n",
    "for wd in [0, 1e-5, 1e-4, 5e-4, 1e-3, 5e-3]:\n",
    "    print(f\"Training for weight decay={wd}\")\n",
    "    train_loader, val_loader, test_loader, num_outputs, num_features = load_data_one_hot_encoded(root_folder, file_name, num_steps=100, batch_size=128)\n",
    "\n",
    "    model = SNNModelSimple(num_features, num_outputs)\n",
    "    criterion = torch.nn.MSELoss()\n",
    "    optimizer = torch.optim.Adam(model.parameters(), lr=1e-3, weight_decay=wd)\n",
    "\n",
    "    train_losses, train_accuracies, val_losses, val_accuracies = train_model(model, train_loader, val_loader, optimizer, criterion, num_epochs=10)\n",
    "    train_losses_wd[wd] = train_losses\n",
    "    train_accuracies_wd[wd] = train_accuracies\n",
    "    val_losses_wd[wd] = val_losses\n",
    "    val_accuracies_wd[wd] = val_accuracies\n",
    "\n",
    "    test_accuracies_wd[wd] = evaluate_model(model, test_loader, encoding='one-hot')\n",
    "\n",
    "out_file_name = 'exp4_mse_wd_0_5e-3_t_100_bs_128_ep_10_lr_1e-3.pkl'\n",
    "with open(out_file_name, 'wb') as f:\n",
    "    pickle.dump({\"train_losses\": train_losses_wd, \"train_accuracies\": train_accuracies_wd, \"val_losses\": val_losses_wd, \"val_accuracies\": val_accuracies_wd, \"test_accuracies\": test_accuracies_wd}, f)\n"
   ]
  }
 ],
 "metadata": {
  "kernelspec": {
   "display_name": "brainy",
   "language": "python",
   "name": "python3"
  },
  "language_info": {
   "codemirror_mode": {
    "name": "ipython",
    "version": 3
   },
   "file_extension": ".py",
   "mimetype": "text/x-python",
   "name": "python",
   "nbconvert_exporter": "python",
   "pygments_lexer": "ipython3",
   "version": "3.9.20"
  }
 },
 "nbformat": 4,
 "nbformat_minor": 2
}
