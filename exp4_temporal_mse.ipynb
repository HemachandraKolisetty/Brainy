{
 "cells": [
  {
   "cell_type": "code",
   "execution_count": 1,
   "metadata": {},
   "outputs": [],
   "source": [
    "from dataloader import load_data_one_hot_encoded\n",
    "from trainer import train_model, evaluate_model\n",
    "from snn import SNNModelSimple\n",
    "import torch\n",
    "import matplotlib.pyplot as plt\n",
    "import pickle"
   ]
  },
  {
   "cell_type": "code",
   "execution_count": 2,
   "metadata": {},
   "outputs": [
    {
     "name": "stdout",
     "output_type": "stream",
     "text": [
      "Training for weight decay=0\n",
      "Epoch 1/10, Train Loss: 0.0767, Train Accuracy: 9.42%, Val Loss: 71.3671, Val Accuracy: 13.14%, Time: 53.67s\n",
      "Epoch 2/10, Train Loss: 0.0733, Train Accuracy: 20.32%, Val Loss: 115.2372, Val Accuracy: 25.78%, Time: 49.69s\n",
      "Epoch 3/10, Train Loss: 0.0695, Train Accuracy: 30.84%, Val Loss: 117.8568, Val Accuracy: 32.65%, Time: 50.38s\n",
      "Epoch 4/10, Train Loss: 0.0677, Train Accuracy: 35.38%, Val Loss: 126.8988, Val Accuracy: 38.86%, Time: 50.33s\n",
      "Epoch 5/10, Train Loss: 0.0664, Train Accuracy: 38.09%, Val Loss: 135.5742, Val Accuracy: 39.14%, Time: 47.02s\n",
      "Epoch 6/10, Train Loss: 0.0654, Train Accuracy: 37.77%, Val Loss: 136.0088, Val Accuracy: 39.44%, Time: 50.41s\n",
      "Epoch 7/10, Train Loss: 0.0641, Train Accuracy: 40.75%, Val Loss: 145.3115, Val Accuracy: 43.17%, Time: 48.76s\n",
      "Epoch 8/10, Train Loss: 0.0631, Train Accuracy: 42.46%, Val Loss: 156.6035, Val Accuracy: 44.72%, Time: 49.80s\n",
      "Epoch 9/10, Train Loss: 0.0625, Train Accuracy: 43.57%, Val Loss: 160.8859, Val Accuracy: 44.45%, Time: 51.58s\n",
      "Epoch 10/10, Train Loss: 0.0621, Train Accuracy: 44.16%, Val Loss: 160.3729, Val Accuracy: 44.03%, Time: 55.79s\n",
      "Best model loaded with Validation Accuracy: 44.72%\n",
      "Test Accuracy: 43.13%, Time: 6.58s\n",
      "Training for weight decay=1e-05\n",
      "Epoch 1/10, Train Loss: 0.0767, Train Accuracy: 8.61%, Val Loss: 72.5894, Val Accuracy: 8.95%, Time: 56.02s\n",
      "Epoch 2/10, Train Loss: 0.0755, Train Accuracy: 15.36%, Val Loss: 81.5932, Val Accuracy: 20.53%, Time: 48.00s\n",
      "Epoch 3/10, Train Loss: 0.0729, Train Accuracy: 22.68%, Val Loss: 93.9129, Val Accuracy: 22.78%, Time: 52.28s\n",
      "Epoch 4/10, Train Loss: 0.0714, Train Accuracy: 25.55%, Val Loss: 103.7375, Val Accuracy: 25.11%, Time: 56.42s\n",
      "Epoch 5/10, Train Loss: 0.0708, Train Accuracy: 26.96%, Val Loss: 109.9848, Val Accuracy: 28.52%, Time: 49.92s\n",
      "Epoch 6/10, Train Loss: 0.0703, Train Accuracy: 27.77%, Val Loss: 104.2427, Val Accuracy: 29.48%, Time: 51.19s\n",
      "Epoch 7/10, Train Loss: 0.0699, Train Accuracy: 28.83%, Val Loss: 108.6177, Val Accuracy: 31.08%, Time: 51.24s\n",
      "Epoch 8/10, Train Loss: 0.0696, Train Accuracy: 29.49%, Val Loss: 101.7501, Val Accuracy: 28.96%, Time: 54.73s\n",
      "Epoch 9/10, Train Loss: 0.0694, Train Accuracy: 30.17%, Val Loss: 108.7673, Val Accuracy: 29.30%, Time: 53.62s\n",
      "Epoch 10/10, Train Loss: 0.0693, Train Accuracy: 30.63%, Val Loss: 111.4262, Val Accuracy: 31.54%, Time: 53.38s\n",
      "Best model loaded with Validation Accuracy: 31.54%\n",
      "Test Accuracy: 31.27%, Time: 7.50s\n",
      "Training for weight decay=0.0001\n",
      "Epoch 1/10, Train Loss: 0.0767, Train Accuracy: 8.41%, Val Loss: 67.5367, Val Accuracy: 7.93%, Time: 51.53s\n",
      "Epoch 2/10, Train Loss: 0.0756, Train Accuracy: 12.87%, Val Loss: 86.9786, Val Accuracy: 14.50%, Time: 48.07s\n",
      "Epoch 3/10, Train Loss: 0.0737, Train Accuracy: 18.22%, Val Loss: 88.1972, Val Accuracy: 21.79%, Time: 51.59s\n",
      "Epoch 4/10, Train Loss: 0.0727, Train Accuracy: 22.92%, Val Loss: 102.9493, Val Accuracy: 25.86%, Time: 47.53s\n",
      "Epoch 5/10, Train Loss: 0.0716, Train Accuracy: 27.03%, Val Loss: 98.3695, Val Accuracy: 29.17%, Time: 48.49s\n",
      "Epoch 6/10, Train Loss: 0.0711, Train Accuracy: 29.19%, Val Loss: 100.1835, Val Accuracy: 29.61%, Time: 47.83s\n",
      "Epoch 7/10, Train Loss: 0.0709, Train Accuracy: 30.29%, Val Loss: 96.9121, Val Accuracy: 29.70%, Time: 51.80s\n",
      "Epoch 8/10, Train Loss: 0.0706, Train Accuracy: 30.40%, Val Loss: 101.9137, Val Accuracy: 29.22%, Time: 49.38s\n",
      "Epoch 9/10, Train Loss: 0.0705, Train Accuracy: 30.83%, Val Loss: 98.1584, Val Accuracy: 30.85%, Time: 48.18s\n",
      "Epoch 10/10, Train Loss: 0.0704, Train Accuracy: 30.96%, Val Loss: 94.5991, Val Accuracy: 31.34%, Time: 51.06s\n",
      "Best model loaded with Validation Accuracy: 31.34%\n",
      "Test Accuracy: 31.82%, Time: 7.17s\n",
      "Training for weight decay=0.0005\n",
      "Epoch 1/10, Train Loss: 0.0768, Train Accuracy: 8.39%, Val Loss: 64.7858, Val Accuracy: 8.44%, Time: 48.77s\n",
      "Epoch 2/10, Train Loss: 0.0765, Train Accuracy: 8.55%, Val Loss: 67.7273, Val Accuracy: 8.92%, Time: 49.65s\n",
      "Epoch 3/10, Train Loss: 0.0765, Train Accuracy: 8.18%, Val Loss: 69.8476, Val Accuracy: 8.89%, Time: 49.85s\n"
     ]
    }
   ],
   "source": [
    "root_folder = \"./tactile_dataset/\"\n",
    "file_name = \"final_merged_df_sw500.csv\"\n",
    "device = torch.device(\"cuda:0\" if torch.cuda.is_available() else \"cpu\")\n",
    "\n",
    "train_losses_wd = {}\n",
    "train_accuracies_wd = {}\n",
    "val_losses_wd = {}\n",
    "val_accuracies_wd = {}\n",
    "test_accuracies_wd = {}\n",
    "\n",
    "for wd in [0, 1e-5, 1e-4, 5e-4, 1e-3, 5e-3]:\n",
    "    print(f\"Training for weight decay={wd}\")\n",
    "    train_loader, val_loader, test_loader, num_outputs, num_features = load_data_one_hot_encoded(root_folder, file_name, spike_encoding='temporal', num_steps=100, batch_size=128, device=device)\n",
    "\n",
    "    model = SNNModelSimple(num_features, num_outputs)\n",
    "    model.to(device)\n",
    "    criterion = torch.nn.MSELoss()\n",
    "    optimizer = torch.optim.Adam(model.parameters(), lr=1e-3, weight_decay=wd)\n",
    "\n",
    "    train_losses, train_accuracies, val_losses, val_accuracies = train_model(model, train_loader, val_loader, optimizer, criterion, num_epochs=10)\n",
    "    train_losses_wd[wd] = train_losses\n",
    "    train_accuracies_wd[wd] = train_accuracies\n",
    "    val_losses_wd[wd] = val_losses\n",
    "    val_accuracies_wd[wd] = val_accuracies\n",
    "\n",
    "    test_accuracies_wd[wd] = evaluate_model(model, test_loader,encoding='one-hot')\n",
    "\n",
    "out_file_name = 'exp4_temporal_wd_0_5e-3_t_100_bs_128_ep_10_lr_1e-3_temporal_mse.pkl'\n",
    "with open(out_file_name, 'wb') as f:\n",
    "    pickle.dump({\"train_losses\": train_losses_wd, \"train_accuracies\": train_accuracies_wd, \"val_losses\": val_losses_wd, \"val_accuracies\": val_accuracies_wd, \"test_accuracies\": test_accuracies_wd}, f)\n"
   ]
  },
  {
   "cell_type": "code",
   "execution_count": null,
   "metadata": {},
   "outputs": [],
   "source": []
  }
 ],
 "metadata": {
  "kernelspec": {
   "display_name": "brainy",
   "language": "python",
   "name": "python3"
  },
  "language_info": {
   "codemirror_mode": {
    "name": "ipython",
    "version": 3
   },
   "file_extension": ".py",
   "mimetype": "text/x-python",
   "name": "python",
   "nbconvert_exporter": "python",
   "pygments_lexer": "ipython3",
   "version": "3.10.14"
  }
 },
 "nbformat": 4,
 "nbformat_minor": 2
}
