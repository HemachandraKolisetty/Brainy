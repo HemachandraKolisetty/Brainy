{
 "cells": [
  {
   "cell_type": "markdown",
   "metadata": {},
   "source": [
    "lr for SGD"
   ]
  },
  {
   "cell_type": "code",
   "execution_count": 1,
   "metadata": {},
   "outputs": [],
   "source": [
    "from dataloader import load_data_one_hot_encoded\n",
    "from trainer import train_model, evaluate_model\n",
    "from snn import SNNModelSimple\n",
    "import torch\n",
    "import matplotlib.pyplot as plt\n",
    "import pickle"
   ]
  },
  {
   "cell_type": "code",
   "execution_count": 3,
   "metadata": {},
   "outputs": [
    {
     "name": "stdout",
     "output_type": "stream",
     "text": [
      "Training for lr=0.0001\n",
      "Epoch 1/10, Train Loss: 2.4856, Train Accuracy: 8.38%, Val Loss: 2.4849, Val Accuracy: 8.33%, Time: 12.31s\n",
      "Epoch 2/10, Train Loss: 2.4849, Train Accuracy: 8.33%, Val Loss: 2.4849, Val Accuracy: 8.33%, Time: 12.36s\n",
      "Epoch 3/10, Train Loss: 2.4857, Train Accuracy: 8.31%, Val Loss: 2.4849, Val Accuracy: 8.33%, Time: 12.79s\n",
      "Epoch 4/10, Train Loss: 2.4852, Train Accuracy: 8.37%, Val Loss: 2.4849, Val Accuracy: 8.33%, Time: 12.36s\n",
      "Epoch 5/10, Train Loss: 2.4850, Train Accuracy: 8.37%, Val Loss: 2.4848, Val Accuracy: 8.35%, Time: 12.98s\n",
      "Epoch 6/10, Train Loss: 2.4856, Train Accuracy: 8.34%, Val Loss: 2.4859, Val Accuracy: 8.31%, Time: 12.97s\n",
      "Epoch 7/10, Train Loss: 2.4863, Train Accuracy: 8.38%, Val Loss: 2.4849, Val Accuracy: 8.35%, Time: 13.59s\n",
      "Epoch 8/10, Train Loss: 2.4857, Train Accuracy: 8.31%, Val Loss: 2.4847, Val Accuracy: 8.39%, Time: 13.39s\n",
      "Epoch 9/10, Train Loss: 2.4855, Train Accuracy: 8.43%, Val Loss: 2.4849, Val Accuracy: 8.38%, Time: 12.33s\n",
      "Epoch 10/10, Train Loss: 2.4860, Train Accuracy: 8.37%, Val Loss: 2.4850, Val Accuracy: 8.33%, Time: 12.51s\n",
      "Best model loaded with Validation Accuracy: 8.39%\n",
      "Test Accuracy: 8.33%, Time: 2.01s\n",
      "Training for lr=0.001\n",
      "Epoch 1/10, Train Loss: 2.4862, Train Accuracy: 8.32%, Val Loss: 2.4849, Val Accuracy: 8.33%, Time: 11.89s\n",
      "Epoch 2/10, Train Loss: 2.4850, Train Accuracy: 8.33%, Val Loss: 2.4849, Val Accuracy: 8.33%, Time: 13.50s\n",
      "Epoch 3/10, Train Loss: 2.4853, Train Accuracy: 8.32%, Val Loss: 2.4849, Val Accuracy: 8.33%, Time: 12.67s\n",
      "Epoch 4/10, Train Loss: 2.4866, Train Accuracy: 8.32%, Val Loss: 2.4849, Val Accuracy: 8.33%, Time: 12.41s\n",
      "Epoch 5/10, Train Loss: 2.4856, Train Accuracy: 8.35%, Val Loss: 2.4949, Val Accuracy: 8.72%, Time: 12.99s\n",
      "Epoch 6/10, Train Loss: 2.4867, Train Accuracy: 8.51%, Val Loss: 2.4864, Val Accuracy: 8.90%, Time: 13.00s\n",
      "Epoch 7/10, Train Loss: 2.4893, Train Accuracy: 8.85%, Val Loss: 2.4995, Val Accuracy: 7.44%, Time: 12.43s\n",
      "Epoch 8/10, Train Loss: 2.5087, Train Accuracy: 9.44%, Val Loss: 2.4877, Val Accuracy: 10.44%, Time: 12.66s\n",
      "Epoch 9/10, Train Loss: 2.5194, Train Accuracy: 11.35%, Val Loss: 2.7599, Val Accuracy: 8.33%, Time: 12.38s\n",
      "Epoch 10/10, Train Loss: 2.5134, Train Accuracy: 11.79%, Val Loss: 2.6893, Val Accuracy: 13.79%, Time: 14.05s\n",
      "Best model loaded with Validation Accuracy: 13.79%\n",
      "Test Accuracy: 13.69%, Time: 1.89s\n",
      "Training for lr=0.005\n",
      "Epoch 1/10, Train Loss: 2.5106, Train Accuracy: 8.34%, Val Loss: 2.4849, Val Accuracy: 8.33%, Time: 12.73s\n",
      "Epoch 2/10, Train Loss: 2.4849, Train Accuracy: 8.33%, Val Loss: 2.4849, Val Accuracy: 8.33%, Time: 12.69s\n",
      "Epoch 3/10, Train Loss: 2.4849, Train Accuracy: 8.33%, Val Loss: 2.4849, Val Accuracy: 8.33%, Time: 13.19s\n",
      "Epoch 4/10, Train Loss: 2.4849, Train Accuracy: 8.33%, Val Loss: 2.4849, Val Accuracy: 8.33%, Time: 12.06s\n",
      "Epoch 5/10, Train Loss: 2.4849, Train Accuracy: 8.33%, Val Loss: 2.4849, Val Accuracy: 8.33%, Time: 12.79s\n",
      "Epoch 6/10, Train Loss: 2.4849, Train Accuracy: 8.33%, Val Loss: 2.4849, Val Accuracy: 8.33%, Time: 12.32s\n",
      "Epoch 7/10, Train Loss: 2.4849, Train Accuracy: 8.33%, Val Loss: 2.4849, Val Accuracy: 8.33%, Time: 12.70s\n",
      "Epoch 8/10, Train Loss: 2.4849, Train Accuracy: 8.33%, Val Loss: 2.4849, Val Accuracy: 8.33%, Time: 13.38s\n",
      "Epoch 9/10, Train Loss: 2.4856, Train Accuracy: 8.32%, Val Loss: 2.4849, Val Accuracy: 8.33%, Time: 13.03s\n",
      "Epoch 10/10, Train Loss: 2.4849, Train Accuracy: 8.33%, Val Loss: 2.4849, Val Accuracy: 8.33%, Time: 13.12s\n",
      "Best model loaded with Validation Accuracy: 8.33%\n",
      "Test Accuracy: 8.33%, Time: 1.87s\n",
      "Training for lr=0.01\n",
      "Epoch 1/10, Train Loss: 14.6592, Train Accuracy: 8.35%, Val Loss: 14.7221, Val Accuracy: 8.33%, Time: 13.04s\n",
      "Epoch 2/10, Train Loss: 14.0484, Train Accuracy: 8.31%, Val Loss: 10.6533, Val Accuracy: 8.33%, Time: 12.95s\n",
      "Epoch 3/10, Train Loss: 10.6623, Train Accuracy: 8.27%, Val Loss: 10.6721, Val Accuracy: 8.33%, Time: 13.29s\n",
      "Epoch 4/10, Train Loss: 10.5941, Train Accuracy: 8.17%, Val Loss: 10.6669, Val Accuracy: 8.33%, Time: 13.92s\n",
      "Epoch 5/10, Train Loss: 10.6243, Train Accuracy: 8.32%, Val Loss: 10.4687, Val Accuracy: 8.33%, Time: 13.65s\n",
      "Epoch 6/10, Train Loss: 10.5075, Train Accuracy: 8.36%, Val Loss: 10.6354, Val Accuracy: 8.33%, Time: 13.78s\n",
      "Epoch 7/10, Train Loss: 10.4807, Train Accuracy: 8.39%, Val Loss: 10.4687, Val Accuracy: 8.33%, Time: 14.37s\n",
      "Epoch 8/10, Train Loss: 10.4728, Train Accuracy: 8.45%, Val Loss: 10.4870, Val Accuracy: 8.33%, Time: 13.85s\n",
      "Epoch 9/10, Train Loss: 10.4123, Train Accuracy: 8.34%, Val Loss: 6.5507, Val Accuracy: 8.33%, Time: 14.43s\n",
      "Epoch 10/10, Train Loss: 6.5630, Train Accuracy: 8.32%, Val Loss: 6.5507, Val Accuracy: 8.33%, Time: 13.57s\n",
      "Best model loaded with Validation Accuracy: 8.33%\n",
      "Test Accuracy: 8.33%, Time: 2.11s\n",
      "Training for lr=0.05\n",
      "Epoch 1/10, Train Loss: 10.6825, Train Accuracy: 8.33%, Val Loss: 10.6150, Val Accuracy: 8.33%, Time: 13.96s\n",
      "Epoch 2/10, Train Loss: 10.6326, Train Accuracy: 8.33%, Val Loss: 10.6150, Val Accuracy: 8.33%, Time: 13.76s\n",
      "Epoch 3/10, Train Loss: 10.6363, Train Accuracy: 8.33%, Val Loss: 10.6150, Val Accuracy: 8.33%, Time: 13.50s\n",
      "Epoch 4/10, Train Loss: 10.6454, Train Accuracy: 8.33%, Val Loss: 10.6150, Val Accuracy: 8.33%, Time: 12.45s\n",
      "Epoch 5/10, Train Loss: 10.6344, Train Accuracy: 8.33%, Val Loss: 10.6150, Val Accuracy: 8.33%, Time: 12.78s\n",
      "Epoch 6/10, Train Loss: 10.6417, Train Accuracy: 8.33%, Val Loss: 10.6150, Val Accuracy: 8.33%, Time: 12.79s\n",
      "Epoch 7/10, Train Loss: 10.6417, Train Accuracy: 8.33%, Val Loss: 10.6150, Val Accuracy: 8.33%, Time: 13.09s\n",
      "Epoch 8/10, Train Loss: 10.6381, Train Accuracy: 8.33%, Val Loss: 10.6150, Val Accuracy: 8.33%, Time: 13.93s\n",
      "Epoch 9/10, Train Loss: 10.6308, Train Accuracy: 8.33%, Val Loss: 10.6150, Val Accuracy: 8.33%, Time: 13.85s\n",
      "Epoch 10/10, Train Loss: 10.6381, Train Accuracy: 8.33%, Val Loss: 10.6150, Val Accuracy: 8.33%, Time: 14.11s\n",
      "Best model loaded with Validation Accuracy: 8.33%\n",
      "Test Accuracy: 8.33%, Time: 1.95s\n"
     ]
    }
   ],
   "source": [
    "root_folder = \"./tactile_dataset/\"\n",
    "file_name = \"final_merged_df_sw500.csv\"\n",
    "device = torch.device(\"cuda:0\" if torch.cuda.is_available() else \"cpu\")\n",
    "\n",
    "train_losses_lr = {}\n",
    "train_accuracies_lr = {}\n",
    "val_losses_lr = {}\n",
    "val_accuracies_lr = {}\n",
    "test_accuracies_lr = {}\n",
    "\n",
    "for lr in [1e-4, 1e-3, 5e-3, 1e-2, 5e-2]:\n",
    "    print(f\"Training for lr={lr}\")\n",
    "    train_loader, val_loader, test_loader, num_outputs, num_features = load_data_one_hot_encoded(root_folder, file_name, spike_encoding='temporal', num_steps=50, batch_size=128, device=device)\n",
    "\n",
    "    model = SNNModelSimple(num_features, num_outputs)\n",
    "    model.to(device)\n",
    "    criterion = torch.nn.MSELoss()\n",
    "    optimizer = torch.optim.SGD(model.parameters(), lr=lr)\n",
    "\n",
    "    train_losses, train_accuracies, val_losses, val_accuracies = train_model(model, train_loader, val_loader, optimizer, criterion, num_epochs=10)\n",
    "    train_losses_lr[lr] = train_losses\n",
    "    train_accuracies_lr[lr] = train_accuracies\n",
    "    val_losses_lr[lr] = val_losses\n",
    "    val_accuracies_lr[lr] = val_accuracies\n",
    "\n",
    "    test_accuracies_lr[lr] = evaluate_model(model, test_loader,encoding='one-hot')\n",
    "\n",
    "out_file_name = 'exp5__temporal_sgd_lr_1e-4_5e-2_t_100_bs_128_ep_10_temporal_mse.pkl'\n",
    "with open(out_file_name, 'wb') as f:\n",
    "    pickle.dump({\"train_losses\": train_losses_lr, \"train_accuracies\": train_accuracies_lr, \"val_losses\": val_losses_lr, \"val_accuracies\": val_accuracies_lr, \"test_accuracies\": test_accuracies_lr}, f)\n"
   ]
  }
 ],
 "metadata": {
  "kernelspec": {
   "display_name": "brainy",
   "language": "python",
   "name": "python3"
  },
  "language_info": {
   "codemirror_mode": {
    "name": "ipython",
    "version": 3
   },
   "file_extension": ".py",
   "mimetype": "text/x-python",
   "name": "python",
   "nbconvert_exporter": "python",
   "pygments_lexer": "ipython3",
   "version": "3.9.20"
  }
 },
 "nbformat": 4,
 "nbformat_minor": 2
}
