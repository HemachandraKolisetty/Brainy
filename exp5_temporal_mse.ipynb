{
 "cells": [
  {
   "cell_type": "markdown",
   "metadata": {},
   "source": [
    "lr for SGD"
   ]
  },
  {
   "cell_type": "code",
   "execution_count": 1,
   "metadata": {},
   "outputs": [],
   "source": [
    "from dataloader import load_data_one_hot_encoded\n",
    "from trainer import train_model, evaluate_model\n",
    "from snn import SNNModelSimple\n",
    "import torch\n",
    "import matplotlib.pyplot as plt\n",
    "import pickle"
   ]
  },
  {
   "cell_type": "code",
   "execution_count": 2,
   "metadata": {},
   "outputs": [
    {
     "name": "stdout",
     "output_type": "stream",
     "text": [
      "Training for lr=0.0001\n"
     ]
    }
   ],
   "source": [
    "root_folder = \"./tactile_dataset/\"\n",
    "file_name = \"final_merged_df_sw500.csv\"\n",
    "device = torch.device(\"cuda:0\" if torch.cuda.is_available() else \"cpu\")\n",
    "\n",
    "train_losses_lr = {}\n",
    "train_accuracies_lr = {}\n",
    "val_losses_lr = {}\n",
    "val_accuracies_lr = {}\n",
    "test_accuracies_lr = {}\n",
    "\n",
    "for lr in [1e-4, 1e-3, 5e-3, 1e-2, 5e-2]:\n",
    "    print(f\"Training for lr={lr}\")\n",
    "    train_loader, val_loader, test_loader, num_outputs, num_features = load_data_one_hot_encoded(root_folder, file_name, spike_encoding='temporal', num_steps=50, batch_size=128, device=device)\n",
    "\n",
    "    model = SNNModelSimple(num_features, num_outputs)\n",
    "    model.to(device)\n",
    "    criterion = torch.nn.MSELoss()\n",
    "    optimizer = torch.optim.SGD(model.parameters(), lr=lr)\n",
    "\n",
    "    train_losses, train_accuracies, val_losses, val_accuracies = train_model(model, train_loader, val_loader, optimizer, criterion, num_epochs=10)\n",
    "    train_losses_lr[lr] = train_losses\n",
    "    train_accuracies_lr[lr] = train_accuracies\n",
    "    val_losses_lr[lr] = val_losses\n",
    "    val_accuracies_lr[lr] = val_accuracies\n",
    "\n",
    "    test_accuracies_lr[lr] = evaluate_model(model, test_loader,encoding='one-hot')\n",
    "\n",
    "out_file_name = 'exp5__temporal_sgd_lr_1e-4_5e-2_t_100_bs_128_ep_10_temporal_mse.pkl'\n",
    "with open(out_file_name, 'wb') as f:\n",
    "    pickle.dump({\"train_losses\": train_losses_lr, \"train_accuracies\": train_accuracies_lr, \"val_losses\": val_losses_lr, \"val_accuracies\": val_accuracies_lr, \"test_accuracies\": test_accuracies_lr}, f)\n"
   ]
  },
  {
   "cell_type": "code",
   "execution_count": null,
   "metadata": {},
   "outputs": [],
   "source": []
  }
 ],
 "metadata": {
  "kernelspec": {
   "display_name": "brainy",
   "language": "python",
   "name": "python3"
  },
  "language_info": {
   "codemirror_mode": {
    "name": "ipython",
    "version": 3
   },
   "file_extension": ".py",
   "mimetype": "text/x-python",
   "name": "python",
   "nbconvert_exporter": "python",
   "pygments_lexer": "ipython3",
   "version": "3.10.14"
  }
 },
 "nbformat": 4,
 "nbformat_minor": 2
}
