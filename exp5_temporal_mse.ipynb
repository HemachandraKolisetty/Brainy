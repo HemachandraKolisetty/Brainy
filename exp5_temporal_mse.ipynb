{
 "cells": [
  {
   "cell_type": "markdown",
   "metadata": {},
   "source": [
    "lr for SGD"
   ]
  },
  {
   "cell_type": "code",
   "execution_count": 1,
   "metadata": {},
   "outputs": [],
   "source": [
    "from dataloader import load_data_one_hot_encoded\n",
    "from trainer import train_model, evaluate_model\n",
    "from snn import SNNModelSimple\n",
    "import torch\n",
    "import matplotlib.pyplot as plt\n",
    "import pickle"
   ]
  },
  {
   "cell_type": "code",
   "execution_count": 2,
   "metadata": {},
   "outputs": [
    {
     "name": "stdout",
     "output_type": "stream",
     "text": [
      "Training for lr=0.0001\n",
      "Epoch 1/10, Train Loss: 0.0829, Train Accuracy: 8.37%, Val Loss: 0.3701, Val Accuracy: 8.57%, Time: 24.58s\n",
      "Epoch 2/10, Train Loss: 0.0828, Train Accuracy: 8.53%, Val Loss: 0.4391, Val Accuracy: 8.51%, Time: 23.50s\n",
      "Epoch 3/10, Train Loss: 0.0827, Train Accuracy: 8.32%, Val Loss: 0.4724, Val Accuracy: 8.25%, Time: 25.48s\n",
      "Epoch 4/10, Train Loss: 0.0827, Train Accuracy: 8.06%, Val Loss: 0.5068, Val Accuracy: 8.34%, Time: 23.23s\n",
      "Epoch 5/10, Train Loss: 0.0826, Train Accuracy: 8.11%, Val Loss: 0.5878, Val Accuracy: 8.04%, Time: 21.97s\n",
      "Epoch 6/10, Train Loss: 0.0824, Train Accuracy: 7.82%, Val Loss: 0.7849, Val Accuracy: 8.66%, Time: 26.43s\n",
      "Epoch 7/10, Train Loss: 0.0823, Train Accuracy: 8.90%, Val Loss: 0.9272, Val Accuracy: 8.46%, Time: 25.27s\n",
      "Epoch 8/10, Train Loss: 0.0822, Train Accuracy: 9.29%, Val Loss: 1.0641, Val Accuracy: 9.13%, Time: 21.58s\n",
      "Epoch 9/10, Train Loss: 0.0821, Train Accuracy: 9.06%, Val Loss: 1.1535, Val Accuracy: 8.55%, Time: 23.59s\n",
      "Epoch 10/10, Train Loss: 0.0821, Train Accuracy: 8.58%, Val Loss: 1.2551, Val Accuracy: 8.56%, Time: 25.80s\n",
      "Best model loaded with Validation Accuracy: 9.13%\n",
      "Test Accuracy: 8.65%, Time: 4.09s\n",
      "Training for lr=0.001\n",
      "Epoch 1/10, Train Loss: 0.0829, Train Accuracy: 8.33%, Val Loss: 0.7450, Val Accuracy: 8.33%, Time: 24.16s\n",
      "Epoch 2/10, Train Loss: 0.0821, Train Accuracy: 8.34%, Val Loss: 1.8696, Val Accuracy: 8.33%, Time: 25.90s\n",
      "Epoch 3/10, Train Loss: 0.0814, Train Accuracy: 8.42%, Val Loss: 3.3870, Val Accuracy: 8.69%, Time: 21.85s\n",
      "Epoch 4/10, Train Loss: 0.0809, Train Accuracy: 8.60%, Val Loss: 4.9099, Val Accuracy: 8.35%, Time: 22.35s\n",
      "Epoch 5/10, Train Loss: 0.0803, Train Accuracy: 8.31%, Val Loss: 6.0085, Val Accuracy: 8.21%, Time: 26.40s\n",
      "Epoch 6/10, Train Loss: 0.0800, Train Accuracy: 8.29%, Val Loss: 7.2637, Val Accuracy: 8.33%, Time: 26.01s\n",
      "Epoch 7/10, Train Loss: 0.0795, Train Accuracy: 8.58%, Val Loss: 8.9699, Val Accuracy: 8.29%, Time: 34.76s\n",
      "Epoch 8/10, Train Loss: 0.0794, Train Accuracy: 8.31%, Val Loss: 9.0118, Val Accuracy: 8.46%, Time: 27.51s\n",
      "Epoch 9/10, Train Loss: 0.0793, Train Accuracy: 7.93%, Val Loss: 9.1613, Val Accuracy: 7.53%, Time: 27.49s\n",
      "Epoch 10/10, Train Loss: 0.0793, Train Accuracy: 7.69%, Val Loss: 9.7814, Val Accuracy: 8.47%, Time: 27.36s\n",
      "Best model loaded with Validation Accuracy: 8.69%\n",
      "Test Accuracy: 8.38%, Time: 4.30s\n",
      "Training for lr=0.005\n",
      "Epoch 1/10, Train Loss: 0.0800, Train Accuracy: 8.34%, Val Loss: 11.0234, Val Accuracy: 8.51%, Time: 29.05s\n",
      "Epoch 2/10, Train Loss: 0.0775, Train Accuracy: 8.12%, Val Loss: 14.8212, Val Accuracy: 8.09%, Time: 22.50s\n",
      "Epoch 3/10, Train Loss: 0.0769, Train Accuracy: 8.11%, Val Loss: 16.4351, Val Accuracy: 8.31%, Time: 27.56s\n",
      "Epoch 4/10, Train Loss: 0.0765, Train Accuracy: 8.30%, Val Loss: 16.6650, Val Accuracy: 8.02%, Time: 23.54s\n",
      "Epoch 5/10, Train Loss: 0.0764, Train Accuracy: 8.92%, Val Loss: 16.8132, Val Accuracy: 8.85%, Time: 23.42s\n",
      "Epoch 6/10, Train Loss: 0.0764, Train Accuracy: 8.73%, Val Loss: 17.0009, Val Accuracy: 9.37%, Time: 23.85s\n",
      "Epoch 7/10, Train Loss: 0.0764, Train Accuracy: 9.18%, Val Loss: 16.5689, Val Accuracy: 8.08%, Time: 26.26s\n",
      "Epoch 8/10, Train Loss: 0.0763, Train Accuracy: 9.22%, Val Loss: 17.0818, Val Accuracy: 9.29%, Time: 25.90s\n",
      "Epoch 9/10, Train Loss: 0.0764, Train Accuracy: 9.14%, Val Loss: 16.8140, Val Accuracy: 8.90%, Time: 25.43s\n",
      "Epoch 10/10, Train Loss: 0.0763, Train Accuracy: 9.07%, Val Loss: 17.2770, Val Accuracy: 10.52%, Time: 25.64s\n",
      "Best model loaded with Validation Accuracy: 10.52%\n",
      "Test Accuracy: 10.61%, Time: 4.45s\n",
      "Training for lr=0.01\n",
      "Epoch 1/10, Train Loss: 0.0808, Train Accuracy: 8.63%, Val Loss: 9.4766, Val Accuracy: 8.33%, Time: 24.92s\n",
      "Epoch 2/10, Train Loss: 0.0776, Train Accuracy: 8.11%, Val Loss: 15.4599, Val Accuracy: 7.50%, Time: 24.12s\n",
      "Epoch 3/10, Train Loss: 0.0766, Train Accuracy: 8.24%, Val Loss: 17.0461, Val Accuracy: 8.44%, Time: 27.83s\n",
      "Epoch 4/10, Train Loss: 0.0764, Train Accuracy: 8.95%, Val Loss: 17.2250, Val Accuracy: 8.89%, Time: 24.90s\n",
      "Epoch 5/10, Train Loss: 0.0764, Train Accuracy: 9.48%, Val Loss: 17.1728, Val Accuracy: 9.79%, Time: 25.71s\n",
      "Epoch 6/10, Train Loss: 0.0764, Train Accuracy: 8.91%, Val Loss: 16.5460, Val Accuracy: 8.44%, Time: 29.86s\n",
      "Epoch 7/10, Train Loss: 0.0764, Train Accuracy: 8.85%, Val Loss: 16.7372, Val Accuracy: 9.34%, Time: 29.85s\n",
      "Epoch 8/10, Train Loss: 0.0764, Train Accuracy: 8.94%, Val Loss: 16.9344, Val Accuracy: 9.58%, Time: 26.87s\n",
      "Epoch 9/10, Train Loss: 0.0764, Train Accuracy: 8.65%, Val Loss: 17.1380, Val Accuracy: 8.22%, Time: 24.05s\n",
      "Epoch 10/10, Train Loss: 0.0764, Train Accuracy: 8.74%, Val Loss: 17.1819, Val Accuracy: 8.41%, Time: 25.03s\n",
      "Best model loaded with Validation Accuracy: 9.79%\n",
      "Test Accuracy: 8.25%, Time: 4.13s\n",
      "Training for lr=0.05\n",
      "Epoch 1/10, Train Loss: 0.0769, Train Accuracy: 8.47%, Val Loss: 17.0446, Val Accuracy: 8.83%, Time: 27.74s\n",
      "Epoch 2/10, Train Loss: 0.0764, Train Accuracy: 8.89%, Val Loss: 16.2422, Val Accuracy: 7.95%, Time: 27.91s\n",
      "Epoch 3/10, Train Loss: 0.0764, Train Accuracy: 8.87%, Val Loss: 16.7227, Val Accuracy: 8.42%, Time: 27.55s\n",
      "Epoch 4/10, Train Loss: 0.0764, Train Accuracy: 8.67%, Val Loss: 17.6124, Val Accuracy: 10.03%, Time: 32.07s\n",
      "Epoch 5/10, Train Loss: 0.0764, Train Accuracy: 8.93%, Val Loss: 16.9586, Val Accuracy: 8.31%, Time: 27.24s\n",
      "Epoch 6/10, Train Loss: 0.0764, Train Accuracy: 9.33%, Val Loss: 16.4668, Val Accuracy: 8.96%, Time: 30.26s\n",
      "Epoch 7/10, Train Loss: 0.0764, Train Accuracy: 9.27%, Val Loss: 17.6441, Val Accuracy: 8.30%, Time: 28.26s\n",
      "Epoch 8/10, Train Loss: 0.0764, Train Accuracy: 9.25%, Val Loss: 18.2546, Val Accuracy: 8.63%, Time: 28.11s\n",
      "Epoch 9/10, Train Loss: 0.0763, Train Accuracy: 9.72%, Val Loss: 18.0833, Val Accuracy: 9.86%, Time: 30.19s\n",
      "Epoch 10/10, Train Loss: 0.0763, Train Accuracy: 9.89%, Val Loss: 17.7366, Val Accuracy: 8.61%, Time: 32.07s\n",
      "Best model loaded with Validation Accuracy: 10.03%\n",
      "Test Accuracy: 8.47%, Time: 4.07s\n"
     ]
    }
   ],
   "source": [
    "root_folder = \"./tactile_dataset/\"\n",
    "file_name = \"final_merged_df_sw500.csv\"\n",
    "device = torch.device(\"cuda:0\" if torch.cuda.is_available() else \"cpu\")\n",
    "\n",
    "train_losses_lr = {}\n",
    "train_accuracies_lr = {}\n",
    "val_losses_lr = {}\n",
    "val_accuracies_lr = {}\n",
    "test_accuracies_lr = {}\n",
    "\n",
    "for lr in [1e-4, 1e-3, 5e-3, 1e-2, 5e-2]:\n",
    "    print(f\"Training for lr={lr}\")\n",
    "    train_loader, val_loader, test_loader, num_outputs, num_features = load_data_one_hot_encoded(root_folder, file_name, spike_encoding='temporal', num_steps=50, batch_size=128, device=device)\n",
    "\n",
    "    model = SNNModelSimple(num_features, num_outputs)\n",
    "    model.to(device)\n",
    "    criterion = torch.nn.MSELoss()\n",
    "    optimizer = torch.optim.SGD(model.parameters(), lr=lr)\n",
    "\n",
    "    train_losses, train_accuracies, val_losses, val_accuracies = train_model(model, train_loader, val_loader, optimizer, criterion, num_epochs=10)\n",
    "    train_losses_lr[lr] = train_losses\n",
    "    train_accuracies_lr[lr] = train_accuracies\n",
    "    val_losses_lr[lr] = val_losses\n",
    "    val_accuracies_lr[lr] = val_accuracies\n",
    "\n",
    "    test_accuracies_lr[lr] = evaluate_model(model, test_loader,encoding='one-hot')\n",
    "\n",
    "out_file_name = 'exp5__temporal_sgd_lr_1e-4_5e-2_t_100_bs_128_ep_10_temporal_mse.pkl'\n",
    "with open(out_file_name, 'wb') as f:\n",
    "    pickle.dump({\"train_losses\": train_losses_lr, \"train_accuracies\": train_accuracies_lr, \"val_losses\": val_losses_lr, \"val_accuracies\": val_accuracies_lr, \"test_accuracies\": test_accuracies_lr}, f)\n"
   ]
  },
  {
   "cell_type": "code",
   "execution_count": null,
   "metadata": {},
   "outputs": [],
   "source": []
  }
 ],
 "metadata": {
  "kernelspec": {
   "display_name": "brainy",
   "language": "python",
   "name": "python3"
  },
  "language_info": {
   "codemirror_mode": {
    "name": "ipython",
    "version": 3
   },
   "file_extension": ".py",
   "mimetype": "text/x-python",
   "name": "python",
   "nbconvert_exporter": "python",
   "pygments_lexer": "ipython3",
   "version": "3.10.14"
  }
 },
 "nbformat": 4,
 "nbformat_minor": 2
}
