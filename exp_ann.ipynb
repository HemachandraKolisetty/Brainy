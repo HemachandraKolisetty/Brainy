{
 "cells": [
  {
   "cell_type": "code",
   "execution_count": 1,
   "metadata": {},
   "outputs": [],
   "source": [
    "from dataloader import load_data_for_ann\n",
    "from trainer import train_model, evaluate_model\n",
    "from ann import ANNModelSimple\n",
    "import torch\n",
    "import pickle"
   ]
  },
  {
   "cell_type": "code",
   "execution_count": null,
   "metadata": {},
   "outputs": [],
   "source": [
    "root_folder = \"./tactile_dataset/\"\n",
    "file_name = \"final_merged_df_sw500.csv\"\n",
    "device = torch.device(\"cuda\" if torch.cuda.is_available() else \"cpu\")\n",
    "\n",
    "train_losses_l = {}\n",
    "train_accuracies_l = {}\n",
    "val_losses_l = {}\n",
    "val_accuracies_l = {}\n",
    "test_accuracies_l = {}\n",
    "\n",
    "for lr in [1e-4, 1e-3, 5e-3, 1e-2, 5e-2]:\n",
    "    print(f\"Training for lr={lr}\")\n",
    "    train_loader, val_loader, test_loader, num_outputs, num_features = load_data_for_ann(root_folder, file_name, batch_size=128, device=device)\n",
    "\n",
    "    model = ANNModelSimple(num_features, num_outputs)\n",
    "    criterion = torch.nn.CrossEntropyLoss()\n",
    "    optimizer = torch.optim.Adam(model.parameters(), lr=lr)\n",
    "\n",
    "    train_losses, train_accuracies, val_losses, val_accuracies = train_model(model, train_loader, val_loader, optimizer, criterion, num_epochs=10, model_type='ann')\n",
    "    train_losses_l[lr] = train_losses\n",
    "    train_accuracies_l[lr] = train_accuracies\n",
    "    val_losses_l[lr] = val_losses\n",
    "    val_accuracies_l[lr] = val_accuracies\n",
    "\n",
    "    test_accuracies_l[lr] = evaluate_model(model, test_loader)\n",
    "\n",
    "out_file_name = 'exp_ann_lr_1e-4_5e-2_t_100_bs_128_ep_10.pkl'\n",
    "with open(out_file_name, 'wb') as f:\n",
    "    pickle.dump({\"train_losses\": train_losses_l, \"train_accuracies\": train_accuracies_l, \"val_losses\": val_losses_l, \"val_accuracies\": val_accuracies_l, \"test_accuracies\": test_accuracies_l}, f)\n"
   ]
  }
 ],
 "metadata": {
  "kernelspec": {
   "display_name": "brainy",
   "language": "python",
   "name": "python3"
  },
  "language_info": {
   "codemirror_mode": {
    "name": "ipython",
    "version": 3
   },
   "file_extension": ".py",
   "mimetype": "text/x-python",
   "name": "python",
   "nbconvert_exporter": "python",
   "pygments_lexer": "ipython3",
   "version": "3.9.20"
  }
 },
 "nbformat": 4,
 "nbformat_minor": 2
}
