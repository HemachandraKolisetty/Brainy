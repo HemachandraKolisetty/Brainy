{
 "cells": [
  {
   "cell_type": "code",
   "execution_count": 1,
   "metadata": {},
   "outputs": [],
   "source": [
    "from dataloader import load_data_label_encoded\n",
    "from trainer import train_model, evaluate_model\n",
    "from snn import SNNModelSimple\n",
    "import torch\n",
    "import matplotlib.pyplot as plt\n",
    "import pickle"
   ]
  },
  {
   "cell_type": "markdown",
   "metadata": {},
   "source": [
    "Parameters that worked the best\n",
    "1. Optimizer - Adam with lr ~ 0.005 and 0.001\n",
    "2. Spike encoding ~ temporal with 50 time steps\n",
    "3. Batch size - 128 (seems to work on-par with 32)\n",
    "4. Beta - 0.8, 0.9, 0.999\n",
    "5. Loss - CrossEntropyLoss\n",
    "6. Num epochs - 100"
   ]
  },
  {
   "cell_type": "code",
   "execution_count": 2,
   "metadata": {},
   "outputs": [
    {
     "name": "stdout",
     "output_type": "stream",
     "text": [
      "Training for beta=0.9\n",
      "Epoch 1/50, Train Loss: 1.9804, Train Accuracy: 27.91%, Val Loss: 1.5687, Val Accuracy: 42.19%, Time: 24.41s\n",
      "Epoch 2/50, Train Loss: 1.4517, Train Accuracy: 46.23%, Val Loss: 1.3653, Val Accuracy: 48.93%, Time: 22.65s\n",
      "Epoch 3/50, Train Loss: 1.3285, Train Accuracy: 50.47%, Val Loss: 1.2941, Val Accuracy: 52.25%, Time: 25.12s\n",
      "Epoch 4/50, Train Loss: 1.2585, Train Accuracy: 52.84%, Val Loss: 1.2160, Val Accuracy: 55.33%, Time: 23.36s\n",
      "Epoch 5/50, Train Loss: 1.2030, Train Accuracy: 54.17%, Val Loss: 1.1774, Val Accuracy: 54.40%, Time: 24.02s\n",
      "Epoch 6/50, Train Loss: 1.1636, Train Accuracy: 55.92%, Val Loss: 1.1529, Val Accuracy: 54.81%, Time: 22.93s\n",
      "Epoch 7/50, Train Loss: 1.1302, Train Accuracy: 56.88%, Val Loss: 1.1662, Val Accuracy: 58.79%, Time: 21.46s\n",
      "Epoch 8/50, Train Loss: 1.0968, Train Accuracy: 58.09%, Val Loss: 1.0784, Val Accuracy: 58.34%, Time: 21.10s\n",
      "Epoch 9/50, Train Loss: 1.0835, Train Accuracy: 58.63%, Val Loss: 1.0679, Val Accuracy: 59.59%, Time: 22.92s\n",
      "Epoch 10/50, Train Loss: 1.0608, Train Accuracy: 59.58%, Val Loss: 1.0261, Val Accuracy: 60.05%, Time: 23.26s\n",
      "Epoch 11/50, Train Loss: 1.0429, Train Accuracy: 60.19%, Val Loss: 1.0246, Val Accuracy: 58.56%, Time: 23.00s\n",
      "Epoch 12/50, Train Loss: 1.0367, Train Accuracy: 60.37%, Val Loss: 1.0483, Val Accuracy: 59.99%, Time: 21.03s\n",
      "Epoch 13/50, Train Loss: 1.0252, Train Accuracy: 60.85%, Val Loss: 1.0074, Val Accuracy: 62.82%, Time: 21.34s\n",
      "Epoch 14/50, Train Loss: 1.0072, Train Accuracy: 61.73%, Val Loss: 1.0047, Val Accuracy: 61.18%, Time: 22.25s\n",
      "Epoch 15/50, Train Loss: 1.0134, Train Accuracy: 61.38%, Val Loss: 1.0484, Val Accuracy: 60.94%, Time: 21.99s\n",
      "Epoch 16/50, Train Loss: 0.9800, Train Accuracy: 62.41%, Val Loss: 0.9771, Val Accuracy: 60.65%, Time: 21.27s\n",
      "Epoch 17/50, Train Loss: 0.9737, Train Accuracy: 63.04%, Val Loss: 1.0285, Val Accuracy: 60.56%, Time: 21.98s\n",
      "Epoch 18/50, Train Loss: 0.9663, Train Accuracy: 63.35%, Val Loss: 0.9711, Val Accuracy: 62.74%, Time: 21.22s\n",
      "Epoch 19/50, Train Loss: 0.9538, Train Accuracy: 63.84%, Val Loss: 1.0075, Val Accuracy: 63.36%, Time: 21.14s\n",
      "Epoch 20/50, Train Loss: 0.9508, Train Accuracy: 64.05%, Val Loss: 0.9777, Val Accuracy: 62.80%, Time: 25.84s\n",
      "Epoch 21/50, Train Loss: 0.9440, Train Accuracy: 64.14%, Val Loss: 0.9520, Val Accuracy: 63.75%, Time: 21.07s\n",
      "Epoch 22/50, Train Loss: 0.9275, Train Accuracy: 64.73%, Val Loss: 0.9373, Val Accuracy: 63.25%, Time: 22.32s\n",
      "Epoch 23/50, Train Loss: 0.9135, Train Accuracy: 65.33%, Val Loss: 0.9150, Val Accuracy: 64.63%, Time: 21.52s\n",
      "Epoch 24/50, Train Loss: 0.9156, Train Accuracy: 64.98%, Val Loss: 0.9251, Val Accuracy: 64.47%, Time: 20.75s\n",
      "Epoch 25/50, Train Loss: 0.9057, Train Accuracy: 65.50%, Val Loss: 0.9325, Val Accuracy: 64.26%, Time: 22.79s\n",
      "Epoch 26/50, Train Loss: 0.9022, Train Accuracy: 65.63%, Val Loss: 0.9241, Val Accuracy: 65.15%, Time: 23.86s\n",
      "Epoch 27/50, Train Loss: 0.8888, Train Accuracy: 65.87%, Val Loss: 0.8851, Val Accuracy: 65.87%, Time: 21.32s\n",
      "Epoch 28/50, Train Loss: 0.8837, Train Accuracy: 66.43%, Val Loss: 0.8508, Val Accuracy: 66.97%, Time: 22.01s\n",
      "Epoch 29/50, Train Loss: 0.8872, Train Accuracy: 66.14%, Val Loss: 0.9425, Val Accuracy: 64.45%, Time: 20.87s\n",
      "Epoch 30/50, Train Loss: 0.8713, Train Accuracy: 66.58%, Val Loss: 0.9311, Val Accuracy: 66.51%, Time: 22.24s\n",
      "Epoch 31/50, Train Loss: 0.8691, Train Accuracy: 66.57%, Val Loss: 0.9362, Val Accuracy: 66.47%, Time: 22.80s\n",
      "Epoch 32/50, Train Loss: 0.8679, Train Accuracy: 66.75%, Val Loss: 0.8816, Val Accuracy: 66.49%, Time: 21.92s\n",
      "Epoch 33/50, Train Loss: 0.8645, Train Accuracy: 66.92%, Val Loss: 0.8708, Val Accuracy: 65.66%, Time: 22.25s\n",
      "Epoch 34/50, Train Loss: 0.8541, Train Accuracy: 67.17%, Val Loss: 0.8653, Val Accuracy: 67.63%, Time: 22.71s\n",
      "Epoch 35/50, Train Loss: 0.8506, Train Accuracy: 67.22%, Val Loss: 0.8938, Val Accuracy: 65.55%, Time: 23.42s\n",
      "Epoch 36/50, Train Loss: 0.8462, Train Accuracy: 67.38%, Val Loss: 0.8319, Val Accuracy: 67.39%, Time: 28.48s\n",
      "Epoch 37/50, Train Loss: 0.8501, Train Accuracy: 67.48%, Val Loss: 0.8737, Val Accuracy: 67.39%, Time: 27.37s\n",
      "Epoch 38/50, Train Loss: 0.8477, Train Accuracy: 67.45%, Val Loss: 0.8600, Val Accuracy: 67.37%, Time: 27.14s\n",
      "Epoch 39/50, Train Loss: 0.8323, Train Accuracy: 68.05%, Val Loss: 0.8871, Val Accuracy: 66.50%, Time: 29.48s\n",
      "Epoch 40/50, Train Loss: 0.8335, Train Accuracy: 68.21%, Val Loss: 0.8796, Val Accuracy: 66.04%, Time: 27.62s\n",
      "Epoch 41/50, Train Loss: 0.8412, Train Accuracy: 67.83%, Val Loss: 0.8512, Val Accuracy: 67.59%, Time: 25.32s\n",
      "Epoch 42/50, Train Loss: 0.8287, Train Accuracy: 68.40%, Val Loss: 0.8446, Val Accuracy: 66.81%, Time: 26.53s\n",
      "Epoch 43/50, Train Loss: 0.8398, Train Accuracy: 67.97%, Val Loss: 0.8407, Val Accuracy: 68.86%, Time: 25.66s\n",
      "Epoch 44/50, Train Loss: 0.8191, Train Accuracy: 68.45%, Val Loss: 0.8654, Val Accuracy: 65.80%, Time: 26.44s\n",
      "Epoch 45/50, Train Loss: 0.8224, Train Accuracy: 68.24%, Val Loss: 0.8493, Val Accuracy: 67.46%, Time: 24.87s\n",
      "Epoch 46/50, Train Loss: 0.8143, Train Accuracy: 68.86%, Val Loss: 0.8498, Val Accuracy: 68.15%, Time: 25.94s\n",
      "Epoch 47/50, Train Loss: 0.8086, Train Accuracy: 68.74%, Val Loss: 0.8421, Val Accuracy: 68.28%, Time: 27.68s\n",
      "Epoch 48/50, Train Loss: 0.8083, Train Accuracy: 69.00%, Val Loss: 0.8274, Val Accuracy: 69.69%, Time: 29.89s\n",
      "Epoch 49/50, Train Loss: 0.8037, Train Accuracy: 69.14%, Val Loss: 0.8131, Val Accuracy: 69.34%, Time: 26.16s\n",
      "Epoch 50/50, Train Loss: 0.8044, Train Accuracy: 69.20%, Val Loss: 0.8391, Val Accuracy: 68.36%, Time: 25.67s\n",
      "Best model loaded with Validation Accuracy: 69.69%\n",
      "Test Accuracy: 68.07%, Time: 4.07s\n"
     ]
    }
   ],
   "source": [
    "root_folder = \"./tactile_dataset/\"\n",
    "file_name = \"final_merged_df_sw500.csv\"\n",
    "device = torch.device(\"cuda\" if torch.cuda.is_available() else \"cpu\")\n",
    "\n",
    "train_losses_beta = {}\n",
    "train_accuracies_beta = {}\n",
    "val_losses_beta = {}\n",
    "val_accuracies_beta = {}\n",
    "test_accuracies_beta = {}\n",
    "for beta in [0.9]:\n",
    "    print(f\"Training for beta={beta}\")\n",
    "    train_loader, val_loader, test_loader, num_outputs, num_features = load_data_label_encoded(root_folder, file_name, spike_encoding='temporal', num_steps=50, batch_size=128, device=device)\n",
    "\n",
    "    model = SNNModelSimple(num_features, num_outputs, beta=beta)\n",
    "    model.to(device)\n",
    "    criterion = torch.nn.CrossEntropyLoss()\n",
    "    optimizer = torch.optim.Adam(model.parameters(), lr=5e-3)\n",
    "\n",
    "    train_losses, train_accuracies, val_losses, val_accuracies = train_model(model, train_loader, val_loader, optimizer, criterion, num_epochs=50)\n",
    "    train_losses_beta[beta] = train_losses\n",
    "    train_accuracies_beta[beta] = train_accuracies\n",
    "    val_losses_beta[beta] = val_losses\n",
    "    val_accuracies_beta[beta] = val_accuracies\n",
    "\n",
    "    test_accuracies_beta[beta] = evaluate_model(model, test_loader)\n",
    "\n",
    "out_file_name = \"exp_snn_beta_09_lr5e-3.pkl\"\n",
    "with open(out_file_name, \"wb\") as f:\n",
    "    pickle.dump({\n",
    "        \"train_losses\": train_losses_beta,\n",
    "        \"train_accuracies\": train_accuracies_beta,\n",
    "        \"val_losses\": val_losses_beta,\n",
    "        \"val_accuracies\": val_accuracies_beta,\n",
    "        \"test_accuracies\": test_accuracies_beta\n",
    "    }, f)"
   ]
  },
  {
   "cell_type": "code",
   "execution_count": null,
   "metadata": {},
   "outputs": [],
   "source": []
  }
 ],
 "metadata": {
  "kernelspec": {
   "display_name": "brainy",
   "language": "python",
   "name": "python3"
  },
  "language_info": {
   "codemirror_mode": {
    "name": "ipython",
    "version": 3
   },
   "file_extension": ".py",
   "mimetype": "text/x-python",
   "name": "python",
   "nbconvert_exporter": "python",
   "pygments_lexer": "ipython3",
   "version": "3.10.14"
  }
 },
 "nbformat": 4,
 "nbformat_minor": 2
}
