{
 "cells": [
  {
   "cell_type": "code",
   "execution_count": 1,
   "metadata": {},
   "outputs": [],
   "source": [
    "from dataloader import load_data_one_hot_encoded\n",
    "from trainer import train_model, evaluate_model\n",
    "from snn import SNNModelSimple\n",
    "import torch\n",
    "import matplotlib.pyplot as plt\n",
    "import pickle"
   ]
  },
  {
   "cell_type": "markdown",
   "metadata": {},
   "source": [
    "Parameters that worked the best\n",
    "1. Optimizer - Adam with lr ~ 0.01\n",
    "2. Spike encoding ~ temporal with 50 time steps\n",
    "3. Batch size - 32 (seems to work on-par with 128)\n",
    "4. Beta - 0.8, 0.9\n",
    "5. Loss - MSELoss\n",
    "6. Num epochs - 100"
   ]
  },
  {
   "cell_type": "code",
   "execution_count": null,
   "metadata": {},
   "outputs": [
    {
     "name": "stdout",
     "output_type": "stream",
     "text": [
      "Training for beta=0.8\n",
      "Epoch 1/50, Train Loss: 0.0641, Train Accuracy: 38.05%, Val Loss: 48.5973, Val Accuracy: 45.71%, Time: 35.20s\n",
      "Epoch 2/50, Train Loss: 0.0549, Train Accuracy: 52.52%, Val Loss: 53.1427, Val Accuracy: 56.63%, Time: 36.41s\n"
     ]
    }
   ],
   "source": [
    "root_folder = \"./tactile_dataset/\"\n",
    "file_name = \"final_merged_df_sw500.csv\"\n",
    "device = torch.device(\"cuda\" if torch.cuda.is_available() else \"cpu\")\n",
    "\n",
    "train_losses_beta = {}\n",
    "train_accuracies_beta = {}\n",
    "val_losses_beta = {}\n",
    "val_accuracies_beta = {}\n",
    "test_accuracies_beta = {}\n",
    "\n",
    "for beta in [0.8]:\n",
    "    print(f\"Training for beta={beta}\")\n",
    "    train_loader, val_loader, test_loader, num_outputs, num_features = load_data_one_hot_encoded(root_folder, file_name, spike_encoding='temporal', num_steps=50, batch_size=32, device=device)\n",
    "\n",
    "    model = SNNModelSimple(num_features, num_outputs, beta=beta)\n",
    "    model.to(device)\n",
    "    criterion = torch.nn.MSELoss()\n",
    "    optimizer = torch.optim.Adam(model.parameters(), lr=1e-2)\n",
    "\n",
    "    train_losses, train_accuracies, val_losses, val_accuracies = train_model(model, train_loader, val_loader, optimizer, criterion, num_epochs=50)\n",
    "    train_losses_beta[beta] = train_losses\n",
    "    train_accuracies_beta[beta] = train_accuracies\n",
    "    val_losses_beta[beta] = val_losses\n",
    "    val_accuracies_beta[beta] = val_accuracies\n",
    "\n",
    "    test_accuracies_beta[beta] = evaluate_model(model, test_loader)\n",
    "\n",
    "out_file_name = \"exp_snn_mse_beta_08_lr1e-2.pkl\"\n",
    "with open(out_file_name, \"wb\") as f:\n",
    "    pickle.dump({\n",
    "        \"train_losses\": train_losses_beta,\n",
    "        \"train_accuracies\": train_accuracies_beta,\n",
    "        \"val_losses\": val_losses_beta,\n",
    "        \"val_accuracies\": val_accuracies_beta,\n",
    "        \"test_accuracies\": test_accuracies_beta\n",
    "    }, f)"
   ]
  }
 ],
 "metadata": {
  "kernelspec": {
   "display_name": "brainy",
   "language": "python",
   "name": "python3"
  },
  "language_info": {
   "codemirror_mode": {
    "name": "ipython",
    "version": 3
   },
   "file_extension": ".py",
   "mimetype": "text/x-python",
   "name": "python",
   "nbconvert_exporter": "python",
   "pygments_lexer": "ipython3",
   "version": "3.9.20"
  }
 },
 "nbformat": 4,
 "nbformat_minor": 2
}
