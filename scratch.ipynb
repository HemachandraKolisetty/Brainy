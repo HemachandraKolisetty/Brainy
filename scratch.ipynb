{
 "cells": [
  {
   "cell_type": "code",
   "execution_count": 4,
   "metadata": {},
   "outputs": [],
   "source": [
    "import pandas as pd\n",
    "\n",
    "# read the data from csv\n",
    "root_folder = './pickles_30/'\n",
    "file_name = root_folder + 'pickles_30_full_baro.csv'\n",
    "data_full_baro = pd.read_csv(file_name)"
   ]
  },
  {
   "cell_type": "code",
   "execution_count": 9,
   "metadata": {},
   "outputs": [
    {
     "data": {
      "text/html": [
       "<div>\n",
       "<style scoped>\n",
       "    .dataframe tbody tr th:only-of-type {\n",
       "        vertical-align: middle;\n",
       "    }\n",
       "\n",
       "    .dataframe tbody tr th {\n",
       "        vertical-align: top;\n",
       "    }\n",
       "\n",
       "    .dataframe thead th {\n",
       "        text-align: right;\n",
       "    }\n",
       "</style>\n",
       "<table border=\"1\" class=\"dataframe\">\n",
       "  <thead>\n",
       "    <tr style=\"text-align: right;\">\n",
       "      <th></th>\n",
       "      <th>baro</th>\n",
       "      <th>Texture</th>\n",
       "    </tr>\n",
       "  </thead>\n",
       "  <tbody>\n",
       "    <tr>\n",
       "      <th>0</th>\n",
       "      <td>183.0</td>\n",
       "      <td>3</td>\n",
       "    </tr>\n",
       "    <tr>\n",
       "      <th>1</th>\n",
       "      <td>183.0</td>\n",
       "      <td>3</td>\n",
       "    </tr>\n",
       "    <tr>\n",
       "      <th>2</th>\n",
       "      <td>183.0</td>\n",
       "      <td>3</td>\n",
       "    </tr>\n",
       "    <tr>\n",
       "      <th>3</th>\n",
       "      <td>183.0</td>\n",
       "      <td>3</td>\n",
       "    </tr>\n",
       "    <tr>\n",
       "      <th>4</th>\n",
       "      <td>183.0</td>\n",
       "      <td>3</td>\n",
       "    </tr>\n",
       "  </tbody>\n",
       "</table>\n",
       "</div>"
      ],
      "text/plain": [
       "    baro  Texture\n",
       "0  183.0        3\n",
       "1  183.0        3\n",
       "2  183.0        3\n",
       "3  183.0        3\n",
       "4  183.0        3"
      ]
     },
     "execution_count": 9,
     "metadata": {},
     "output_type": "execute_result"
    }
   ],
   "source": [
    "data_full_baro.shape\n",
    "data_full_baro['Texture'].value_counts()\n",
    "data_full_baro.columns\n",
    "data_full_baro.head()"
   ]
  },
  {
   "cell_type": "code",
   "execution_count": 10,
   "metadata": {},
   "outputs": [],
   "source": [
    "root_folder = './tactile_dataset/pickles_30/texture_01/'\n",
    "file_name = root_folder + 'full_baro.csv'\n",
    "data_full_baro = pd.read_csv(file_name)"
   ]
  },
  {
   "cell_type": "code",
   "execution_count": 12,
   "metadata": {},
   "outputs": [
    {
     "data": {
      "text/html": [
       "<div>\n",
       "<style scoped>\n",
       "    .dataframe tbody tr th:only-of-type {\n",
       "        vertical-align: middle;\n",
       "    }\n",
       "\n",
       "    .dataframe tbody tr th {\n",
       "        vertical-align: top;\n",
       "    }\n",
       "\n",
       "    .dataframe thead th {\n",
       "        text-align: right;\n",
       "    }\n",
       "</style>\n",
       "<table border=\"1\" class=\"dataframe\">\n",
       "  <thead>\n",
       "    <tr style=\"text-align: right;\">\n",
       "      <th></th>\n",
       "      <th>baro</th>\n",
       "      <th>Texture</th>\n",
       "    </tr>\n",
       "  </thead>\n",
       "  <tbody>\n",
       "    <tr>\n",
       "      <th>3777650</th>\n",
       "      <td>176.0</td>\n",
       "      <td>1</td>\n",
       "    </tr>\n",
       "    <tr>\n",
       "      <th>3777651</th>\n",
       "      <td>176.0</td>\n",
       "      <td>1</td>\n",
       "    </tr>\n",
       "    <tr>\n",
       "      <th>3777652</th>\n",
       "      <td>176.0</td>\n",
       "      <td>1</td>\n",
       "    </tr>\n",
       "    <tr>\n",
       "      <th>3777653</th>\n",
       "      <td>176.0</td>\n",
       "      <td>1</td>\n",
       "    </tr>\n",
       "    <tr>\n",
       "      <th>3777654</th>\n",
       "      <td>176.0</td>\n",
       "      <td>1</td>\n",
       "    </tr>\n",
       "  </tbody>\n",
       "</table>\n",
       "</div>"
      ],
      "text/plain": [
       "          baro  Texture\n",
       "3777650  176.0        1\n",
       "3777651  176.0        1\n",
       "3777652  176.0        1\n",
       "3777653  176.0        1\n",
       "3777654  176.0        1"
      ]
     },
     "execution_count": 12,
     "metadata": {},
     "output_type": "execute_result"
    }
   ],
   "source": [
    "data_full_baro.tail()"
   ]
  },
  {
   "cell_type": "code",
   "execution_count": 13,
   "metadata": {},
   "outputs": [
    {
     "data": {
      "text/html": [
       "<div>\n",
       "<style scoped>\n",
       "    .dataframe tbody tr th:only-of-type {\n",
       "        vertical-align: middle;\n",
       "    }\n",
       "\n",
       "    .dataframe tbody tr th {\n",
       "        vertical-align: top;\n",
       "    }\n",
       "\n",
       "    .dataframe thead th {\n",
       "        text-align: right;\n",
       "    }\n",
       "</style>\n",
       "<table border=\"1\" class=\"dataframe\">\n",
       "  <thead>\n",
       "    <tr style=\"text-align: right;\">\n",
       "      <th></th>\n",
       "      <th>baro</th>\n",
       "      <th>Texture</th>\n",
       "    </tr>\n",
       "  </thead>\n",
       "  <tbody>\n",
       "    <tr>\n",
       "      <th>0</th>\n",
       "      <td>171.0</td>\n",
       "      <td>1</td>\n",
       "    </tr>\n",
       "    <tr>\n",
       "      <th>1</th>\n",
       "      <td>171.0</td>\n",
       "      <td>1</td>\n",
       "    </tr>\n",
       "    <tr>\n",
       "      <th>2</th>\n",
       "      <td>171.0</td>\n",
       "      <td>1</td>\n",
       "    </tr>\n",
       "    <tr>\n",
       "      <th>3</th>\n",
       "      <td>171.0</td>\n",
       "      <td>1</td>\n",
       "    </tr>\n",
       "    <tr>\n",
       "      <th>4</th>\n",
       "      <td>171.0</td>\n",
       "      <td>1</td>\n",
       "    </tr>\n",
       "  </tbody>\n",
       "</table>\n",
       "</div>"
      ],
      "text/plain": [
       "    baro  Texture\n",
       "0  171.0        1\n",
       "1  171.0        1\n",
       "2  171.0        1\n",
       "3  171.0        1\n",
       "4  171.0        1"
      ]
     },
     "execution_count": 13,
     "metadata": {},
     "output_type": "execute_result"
    }
   ],
   "source": [
    "data_full_baro.head()"
   ]
  },
  {
   "cell_type": "code",
   "execution_count": 14,
   "metadata": {},
   "outputs": [],
   "source": [
    "root_folder = './tactile_dataset/pickles_30/texture_01/'\n",
    "file_name = root_folder + 'full_imu.csv'\n",
    "full_imu = pd.read_csv(file_name)"
   ]
  },
  {
   "cell_type": "code",
   "execution_count": 15,
   "metadata": {},
   "outputs": [
    {
     "data": {
      "text/html": [
       "<div>\n",
       "<style scoped>\n",
       "    .dataframe tbody tr th:only-of-type {\n",
       "        vertical-align: middle;\n",
       "    }\n",
       "\n",
       "    .dataframe tbody tr th {\n",
       "        vertical-align: top;\n",
       "    }\n",
       "\n",
       "    .dataframe thead th {\n",
       "        text-align: right;\n",
       "    }\n",
       "</style>\n",
       "<table border=\"1\" class=\"dataframe\">\n",
       "  <thead>\n",
       "    <tr style=\"text-align: right;\">\n",
       "      <th></th>\n",
       "      <th>imu_ax</th>\n",
       "      <th>imu_ay</th>\n",
       "      <th>imu_az</th>\n",
       "      <th>imu_gx</th>\n",
       "      <th>imu_gy</th>\n",
       "      <th>imu_gz</th>\n",
       "      <th>imu_mx</th>\n",
       "      <th>imu_my</th>\n",
       "      <th>imu_mz</th>\n",
       "      <th>Texture</th>\n",
       "    </tr>\n",
       "  </thead>\n",
       "  <tbody>\n",
       "    <tr>\n",
       "      <th>0</th>\n",
       "      <td>-1.403002</td>\n",
       "      <td>-3.470395</td>\n",
       "      <td>9.000402</td>\n",
       "      <td>-0.01579</td>\n",
       "      <td>-0.014093</td>\n",
       "      <td>-0.009526</td>\n",
       "      <td>-0.286133</td>\n",
       "      <td>-0.707764</td>\n",
       "      <td>1.835571</td>\n",
       "      <td>1</td>\n",
       "    </tr>\n",
       "    <tr>\n",
       "      <th>1</th>\n",
       "      <td>-1.403002</td>\n",
       "      <td>-3.470395</td>\n",
       "      <td>9.000402</td>\n",
       "      <td>-0.01579</td>\n",
       "      <td>-0.014093</td>\n",
       "      <td>-0.009526</td>\n",
       "      <td>-0.286133</td>\n",
       "      <td>-0.707764</td>\n",
       "      <td>1.835571</td>\n",
       "      <td>1</td>\n",
       "    </tr>\n",
       "    <tr>\n",
       "      <th>2</th>\n",
       "      <td>-1.403002</td>\n",
       "      <td>-3.470395</td>\n",
       "      <td>9.000402</td>\n",
       "      <td>-0.01579</td>\n",
       "      <td>-0.014093</td>\n",
       "      <td>-0.009526</td>\n",
       "      <td>-0.286133</td>\n",
       "      <td>-0.707764</td>\n",
       "      <td>1.835571</td>\n",
       "      <td>1</td>\n",
       "    </tr>\n",
       "    <tr>\n",
       "      <th>3</th>\n",
       "      <td>-1.403002</td>\n",
       "      <td>-3.470395</td>\n",
       "      <td>9.000402</td>\n",
       "      <td>-0.01579</td>\n",
       "      <td>-0.014093</td>\n",
       "      <td>-0.009526</td>\n",
       "      <td>-0.286133</td>\n",
       "      <td>-0.707764</td>\n",
       "      <td>1.835571</td>\n",
       "      <td>1</td>\n",
       "    </tr>\n",
       "    <tr>\n",
       "      <th>4</th>\n",
       "      <td>-1.403002</td>\n",
       "      <td>-3.470395</td>\n",
       "      <td>9.000402</td>\n",
       "      <td>-0.01579</td>\n",
       "      <td>-0.014093</td>\n",
       "      <td>-0.009526</td>\n",
       "      <td>-0.286133</td>\n",
       "      <td>-0.707764</td>\n",
       "      <td>1.835571</td>\n",
       "      <td>1</td>\n",
       "    </tr>\n",
       "  </tbody>\n",
       "</table>\n",
       "</div>"
      ],
      "text/plain": [
       "     imu_ax    imu_ay    imu_az   imu_gx    imu_gy    imu_gz    imu_mx  \\\n",
       "0 -1.403002 -3.470395  9.000402 -0.01579 -0.014093 -0.009526 -0.286133   \n",
       "1 -1.403002 -3.470395  9.000402 -0.01579 -0.014093 -0.009526 -0.286133   \n",
       "2 -1.403002 -3.470395  9.000402 -0.01579 -0.014093 -0.009526 -0.286133   \n",
       "3 -1.403002 -3.470395  9.000402 -0.01579 -0.014093 -0.009526 -0.286133   \n",
       "4 -1.403002 -3.470395  9.000402 -0.01579 -0.014093 -0.009526 -0.286133   \n",
       "\n",
       "     imu_my    imu_mz  Texture  \n",
       "0 -0.707764  1.835571        1  \n",
       "1 -0.707764  1.835571        1  \n",
       "2 -0.707764  1.835571        1  \n",
       "3 -0.707764  1.835571        1  \n",
       "4 -0.707764  1.835571        1  "
      ]
     },
     "execution_count": 15,
     "metadata": {},
     "output_type": "execute_result"
    }
   ],
   "source": [
    "full_imu.head()"
   ]
  },
  {
   "cell_type": "code",
   "execution_count": 17,
   "metadata": {},
   "outputs": [
    {
     "data": {
      "text/plain": [
       "(3777655, 10)"
      ]
     },
     "execution_count": 17,
     "metadata": {},
     "output_type": "execute_result"
    }
   ],
   "source": [
    "full_imu.shape"
   ]
  },
  {
   "cell_type": "code",
   "execution_count": 18,
   "metadata": {},
   "outputs": [
    {
     "data": {
      "text/plain": [
       "(3777655, 2)"
      ]
     },
     "execution_count": 18,
     "metadata": {},
     "output_type": "execute_result"
    }
   ],
   "source": [
    "data_full_baro.shape"
   ]
  },
  {
   "cell_type": "code",
   "execution_count": null,
   "metadata": {},
   "outputs": [],
   "source": [
    "root_folder = './tactile_dataset/pickles_30/texture_01/'\n",
    "file_name = root_folder + 'full_imu.csv'\n",
    "full_imu = pd.read_csv(file_name)"
   ]
  }
 ],
 "metadata": {
  "kernelspec": {
   "display_name": "brainy",
   "language": "python",
   "name": "python3"
  },
  "language_info": {
   "codemirror_mode": {
    "name": "ipython",
    "version": 3
   },
   "file_extension": ".py",
   "mimetype": "text/x-python",
   "name": "python",
   "nbconvert_exporter": "python",
   "pygments_lexer": "ipython3",
   "version": "3.13.0"
  }
 },
 "nbformat": 4,
 "nbformat_minor": 2
}
